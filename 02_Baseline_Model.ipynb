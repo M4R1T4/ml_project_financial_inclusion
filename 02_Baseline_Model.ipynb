{
 "cells": [
  {
   "cell_type": "code",
   "execution_count": 2,
   "metadata": {},
   "outputs": [],
   "source": [
    "import numpy as np\n",
    "import pandas as pd\n",
    "import matplotlib.pyplot as plt\n",
    "import seaborn as sns\n",
    "\n",
    "\n",
    "from sklearn.datasets import make_classification\n",
    "from sklearn.linear_model import LogisticRegression\n",
    "from sklearn.metrics import confusion_matrix, ConfusionMatrixDisplay, accuracy_score, precision_score, mean_absolute_error\n",
    "from sklearn.neighbors import KNeighborsClassifier\n",
    "from sklearn.preprocessing import StandardScaler, MinMaxScaler\n",
    "from sklearn.model_selection import train_test_split, cross_val_score, GridSearchCV, RandomizedSearchCV"
   ]
  },
  {
   "cell_type": "code",
   "execution_count": 3,
   "metadata": {},
   "outputs": [
    {
     "name": "stdout",
     "output_type": "stream",
     "text": [
      "train data shape : (23524, 13)\n"
     ]
    },
    {
     "data": {
      "text/html": [
       "<div>\n",
       "<style scoped>\n",
       "    .dataframe tbody tr th:only-of-type {\n",
       "        vertical-align: middle;\n",
       "    }\n",
       "\n",
       "    .dataframe tbody tr th {\n",
       "        vertical-align: top;\n",
       "    }\n",
       "\n",
       "    .dataframe thead th {\n",
       "        text-align: right;\n",
       "    }\n",
       "</style>\n",
       "<table border=\"1\" class=\"dataframe\">\n",
       "  <thead>\n",
       "    <tr style=\"text-align: right;\">\n",
       "      <th></th>\n",
       "      <th>country</th>\n",
       "      <th>year</th>\n",
       "      <th>uniqueid</th>\n",
       "      <th>bank_account</th>\n",
       "      <th>location_type</th>\n",
       "      <th>cellphone_access</th>\n",
       "      <th>household_size</th>\n",
       "      <th>age_of_respondent</th>\n",
       "      <th>gender_of_respondent</th>\n",
       "      <th>relationship_with_head</th>\n",
       "      <th>marital_status</th>\n",
       "      <th>education_level</th>\n",
       "      <th>job_type</th>\n",
       "    </tr>\n",
       "  </thead>\n",
       "  <tbody>\n",
       "    <tr>\n",
       "      <th>0</th>\n",
       "      <td>Kenya</td>\n",
       "      <td>2018</td>\n",
       "      <td>uniqueid_1</td>\n",
       "      <td>Yes</td>\n",
       "      <td>Rural</td>\n",
       "      <td>Yes</td>\n",
       "      <td>3</td>\n",
       "      <td>24</td>\n",
       "      <td>Female</td>\n",
       "      <td>Spouse</td>\n",
       "      <td>Married/Living together</td>\n",
       "      <td>Secondary education</td>\n",
       "      <td>Self employed</td>\n",
       "    </tr>\n",
       "    <tr>\n",
       "      <th>1</th>\n",
       "      <td>Kenya</td>\n",
       "      <td>2018</td>\n",
       "      <td>uniqueid_2</td>\n",
       "      <td>No</td>\n",
       "      <td>Rural</td>\n",
       "      <td>No</td>\n",
       "      <td>5</td>\n",
       "      <td>70</td>\n",
       "      <td>Female</td>\n",
       "      <td>Head of Household</td>\n",
       "      <td>Widowed</td>\n",
       "      <td>No formal education</td>\n",
       "      <td>Government Dependent</td>\n",
       "    </tr>\n",
       "    <tr>\n",
       "      <th>2</th>\n",
       "      <td>Kenya</td>\n",
       "      <td>2018</td>\n",
       "      <td>uniqueid_3</td>\n",
       "      <td>Yes</td>\n",
       "      <td>Urban</td>\n",
       "      <td>Yes</td>\n",
       "      <td>5</td>\n",
       "      <td>26</td>\n",
       "      <td>Male</td>\n",
       "      <td>Other relative</td>\n",
       "      <td>Single/Never Married</td>\n",
       "      <td>Vocational/Specialised training</td>\n",
       "      <td>Self employed</td>\n",
       "    </tr>\n",
       "    <tr>\n",
       "      <th>3</th>\n",
       "      <td>Kenya</td>\n",
       "      <td>2018</td>\n",
       "      <td>uniqueid_4</td>\n",
       "      <td>No</td>\n",
       "      <td>Rural</td>\n",
       "      <td>Yes</td>\n",
       "      <td>5</td>\n",
       "      <td>34</td>\n",
       "      <td>Female</td>\n",
       "      <td>Head of Household</td>\n",
       "      <td>Married/Living together</td>\n",
       "      <td>Primary education</td>\n",
       "      <td>Formally employed Private</td>\n",
       "    </tr>\n",
       "    <tr>\n",
       "      <th>4</th>\n",
       "      <td>Kenya</td>\n",
       "      <td>2018</td>\n",
       "      <td>uniqueid_5</td>\n",
       "      <td>No</td>\n",
       "      <td>Urban</td>\n",
       "      <td>No</td>\n",
       "      <td>8</td>\n",
       "      <td>26</td>\n",
       "      <td>Male</td>\n",
       "      <td>Child</td>\n",
       "      <td>Single/Never Married</td>\n",
       "      <td>Primary education</td>\n",
       "      <td>Informally employed</td>\n",
       "    </tr>\n",
       "  </tbody>\n",
       "</table>\n",
       "</div>"
      ],
      "text/plain": [
       "  country  year    uniqueid bank_account location_type cellphone_access   \n",
       "0   Kenya  2018  uniqueid_1          Yes         Rural              Yes  \\\n",
       "1   Kenya  2018  uniqueid_2           No         Rural               No   \n",
       "2   Kenya  2018  uniqueid_3          Yes         Urban              Yes   \n",
       "3   Kenya  2018  uniqueid_4           No         Rural              Yes   \n",
       "4   Kenya  2018  uniqueid_5           No         Urban               No   \n",
       "\n",
       "   household_size  age_of_respondent gender_of_respondent   \n",
       "0               3                 24               Female  \\\n",
       "1               5                 70               Female   \n",
       "2               5                 26                 Male   \n",
       "3               5                 34               Female   \n",
       "4               8                 26                 Male   \n",
       "\n",
       "  relationship_with_head           marital_status   \n",
       "0                 Spouse  Married/Living together  \\\n",
       "1      Head of Household                  Widowed   \n",
       "2         Other relative     Single/Never Married   \n",
       "3      Head of Household  Married/Living together   \n",
       "4                  Child     Single/Never Married   \n",
       "\n",
       "                   education_level                   job_type  \n",
       "0              Secondary education              Self employed  \n",
       "1              No formal education       Government Dependent  \n",
       "2  Vocational/Specialised training              Self employed  \n",
       "3                Primary education  Formally employed Private  \n",
       "4                Primary education        Informally employed  "
      ]
     },
     "execution_count": 3,
     "metadata": {},
     "output_type": "execute_result"
    }
   ],
   "source": [
    "# Load files into a pandas dataframe\n",
    "df = pd.read_csv('data/Train.csv')\n",
    "# Let’s observe the shape of our datasets.\n",
    "print('train data shape :', df.shape)\n",
    "# inspect train data\n",
    "df.head()"
   ]
  },
  {
   "cell_type": "code",
   "execution_count": 4,
   "metadata": {},
   "outputs": [
    {
     "data": {
      "text/html": [
       "<div>\n",
       "<style scoped>\n",
       "    .dataframe tbody tr th:only-of-type {\n",
       "        vertical-align: middle;\n",
       "    }\n",
       "\n",
       "    .dataframe tbody tr th {\n",
       "        vertical-align: top;\n",
       "    }\n",
       "\n",
       "    .dataframe thead th {\n",
       "        text-align: right;\n",
       "    }\n",
       "</style>\n",
       "<table border=\"1\" class=\"dataframe\">\n",
       "  <thead>\n",
       "    <tr style=\"text-align: right;\">\n",
       "      <th></th>\n",
       "      <th>country</th>\n",
       "      <th>bank_account</th>\n",
       "      <th>location_type</th>\n",
       "      <th>cellphone_access</th>\n",
       "      <th>household_size</th>\n",
       "      <th>age_of_respondent</th>\n",
       "      <th>gender_of_respondent</th>\n",
       "      <th>relationship_with_head</th>\n",
       "      <th>marital_status</th>\n",
       "      <th>education_level</th>\n",
       "      <th>job_type</th>\n",
       "    </tr>\n",
       "  </thead>\n",
       "  <tbody>\n",
       "    <tr>\n",
       "      <th>0</th>\n",
       "      <td>Kenya</td>\n",
       "      <td>Yes</td>\n",
       "      <td>Rural</td>\n",
       "      <td>Yes</td>\n",
       "      <td>3</td>\n",
       "      <td>24</td>\n",
       "      <td>Female</td>\n",
       "      <td>Spouse</td>\n",
       "      <td>Married/Living together</td>\n",
       "      <td>Secondary education</td>\n",
       "      <td>Self employed</td>\n",
       "    </tr>\n",
       "    <tr>\n",
       "      <th>1</th>\n",
       "      <td>Kenya</td>\n",
       "      <td>No</td>\n",
       "      <td>Rural</td>\n",
       "      <td>No</td>\n",
       "      <td>5</td>\n",
       "      <td>70</td>\n",
       "      <td>Female</td>\n",
       "      <td>Head of Household</td>\n",
       "      <td>Widowed</td>\n",
       "      <td>No formal education</td>\n",
       "      <td>Government Dependent</td>\n",
       "    </tr>\n",
       "    <tr>\n",
       "      <th>2</th>\n",
       "      <td>Kenya</td>\n",
       "      <td>Yes</td>\n",
       "      <td>Urban</td>\n",
       "      <td>Yes</td>\n",
       "      <td>5</td>\n",
       "      <td>26</td>\n",
       "      <td>Male</td>\n",
       "      <td>Other relative</td>\n",
       "      <td>Single/Never Married</td>\n",
       "      <td>Vocational/Specialised training</td>\n",
       "      <td>Self employed</td>\n",
       "    </tr>\n",
       "    <tr>\n",
       "      <th>3</th>\n",
       "      <td>Kenya</td>\n",
       "      <td>No</td>\n",
       "      <td>Rural</td>\n",
       "      <td>Yes</td>\n",
       "      <td>5</td>\n",
       "      <td>34</td>\n",
       "      <td>Female</td>\n",
       "      <td>Head of Household</td>\n",
       "      <td>Married/Living together</td>\n",
       "      <td>Primary education</td>\n",
       "      <td>Formally employed Private</td>\n",
       "    </tr>\n",
       "    <tr>\n",
       "      <th>4</th>\n",
       "      <td>Kenya</td>\n",
       "      <td>No</td>\n",
       "      <td>Urban</td>\n",
       "      <td>No</td>\n",
       "      <td>8</td>\n",
       "      <td>26</td>\n",
       "      <td>Male</td>\n",
       "      <td>Child</td>\n",
       "      <td>Single/Never Married</td>\n",
       "      <td>Primary education</td>\n",
       "      <td>Informally employed</td>\n",
       "    </tr>\n",
       "  </tbody>\n",
       "</table>\n",
       "</div>"
      ],
      "text/plain": [
       "  country bank_account location_type cellphone_access  household_size   \n",
       "0   Kenya          Yes         Rural              Yes               3  \\\n",
       "1   Kenya           No         Rural               No               5   \n",
       "2   Kenya          Yes         Urban              Yes               5   \n",
       "3   Kenya           No         Rural              Yes               5   \n",
       "4   Kenya           No         Urban               No               8   \n",
       "\n",
       "   age_of_respondent gender_of_respondent relationship_with_head   \n",
       "0                 24               Female                 Spouse  \\\n",
       "1                 70               Female      Head of Household   \n",
       "2                 26                 Male         Other relative   \n",
       "3                 34               Female      Head of Household   \n",
       "4                 26                 Male                  Child   \n",
       "\n",
       "            marital_status                  education_level   \n",
       "0  Married/Living together              Secondary education  \\\n",
       "1                  Widowed              No formal education   \n",
       "2     Single/Never Married  Vocational/Specialised training   \n",
       "3  Married/Living together                Primary education   \n",
       "4     Single/Never Married                Primary education   \n",
       "\n",
       "                    job_type  \n",
       "0              Self employed  \n",
       "1       Government Dependent  \n",
       "2              Self employed  \n",
       "3  Formally employed Private  \n",
       "4        Informally employed  "
      ]
     },
     "execution_count": 4,
     "metadata": {},
     "output_type": "execute_result"
    }
   ],
   "source": [
    "# drop columns I don't need for my model\n",
    "df.drop('year', axis=1, inplace=True)\n",
    "df.drop('uniqueid', axis=1, inplace=True)\n",
    "df.head()"
   ]
  },
  {
   "cell_type": "code",
   "execution_count": 5,
   "metadata": {},
   "outputs": [
    {
     "data": {
      "text/plain": [
       "Index(['country', 'bank_account', 'location_type', 'cellphone_access',\n",
       "       'household_size', 'age_of_respondent', 'gender_of_respondent',\n",
       "       'relationship_with_head', 'marital_status', 'education_level',\n",
       "       'job_type'],\n",
       "      dtype='object')"
      ]
     },
     "execution_count": 5,
     "metadata": {},
     "output_type": "execute_result"
    }
   ],
   "source": [
    "df.columns"
   ]
  },
  {
   "cell_type": "code",
   "execution_count": 6,
   "metadata": {},
   "outputs": [
    {
     "name": "stdout",
     "output_type": "stream",
     "text": [
      "<class 'pandas.core.frame.DataFrame'>\n",
      "RangeIndex: 23524 entries, 0 to 23523\n",
      "Data columns (total 11 columns):\n",
      " #   Column                  Non-Null Count  Dtype \n",
      "---  ------                  --------------  ----- \n",
      " 0   country                 23524 non-null  object\n",
      " 1   bank_account            23524 non-null  object\n",
      " 2   location_type           23524 non-null  object\n",
      " 3   cellphone_access        23524 non-null  object\n",
      " 4   household_size          23524 non-null  int64 \n",
      " 5   age_of_respondent       23524 non-null  int64 \n",
      " 6   gender_of_respondent    23524 non-null  object\n",
      " 7   relationship_with_head  23524 non-null  object\n",
      " 8   marital_status          23524 non-null  object\n",
      " 9   education_level         23524 non-null  object\n",
      " 10  job_type                23524 non-null  object\n",
      "dtypes: int64(2), object(9)\n",
      "memory usage: 2.0+ MB\n"
     ]
    }
   ],
   "source": [
    "df.info()"
   ]
  },
  {
   "cell_type": "code",
   "execution_count": 7,
   "metadata": {},
   "outputs": [],
   "source": [
    "# categorical features\n",
    "cat_features = ['country', 'bank_account', 'location_type',\n",
    "                    'cellphone_access', 'gender_of_respondent',\n",
    "                    'relationship_with_head', 'marital_status',\n",
    "                    'education_level', 'job_type']\n",
    "\n"
   ]
  },
  {
   "cell_type": "code",
   "execution_count": 8,
   "metadata": {},
   "outputs": [
    {
     "name": "stdout",
     "output_type": "stream",
     "text": [
      "country 4 ['Kenya' 'Rwanda' 'Tanzania' 'Uganda']\n",
      "bank_account 2 ['Yes' 'No']\n",
      "location_type 2 ['Rural' 'Urban']\n",
      "cellphone_access 2 ['Yes' 'No']\n",
      "gender_of_respondent 2 ['Female' 'Male']\n",
      "relationship_with_head 6 ['Spouse' 'Head of Household' 'Other relative' 'Child' 'Parent'\n",
      " 'Other non-relatives']\n",
      "marital_status 5 ['Married/Living together' 'Widowed' 'Single/Never Married'\n",
      " 'Divorced/Seperated' 'Dont know']\n",
      "education_level 6 ['Secondary education' 'No formal education'\n",
      " 'Vocational/Specialised training' 'Primary education'\n",
      " 'Tertiary education' 'Other/Dont know/RTA']\n",
      "job_type 10 ['Self employed' 'Government Dependent' 'Formally employed Private'\n",
      " 'Informally employed' 'Formally employed Government'\n",
      " 'Farming and Fishing' 'Remittance Dependent' 'Other Income'\n",
      " 'Dont Know/Refuse to answer' 'No Income']\n"
     ]
    }
   ],
   "source": [
    "for item in cat_features:\n",
    "    print(item, len(df[item].unique()), df[item].unique())"
   ]
  },
  {
   "cell_type": "code",
   "execution_count": 9,
   "metadata": {},
   "outputs": [
    {
     "name": "stdout",
     "output_type": "stream",
     "text": [
      "<class 'pandas.core.frame.DataFrame'>\n",
      "RangeIndex: 23524 entries, 0 to 23523\n",
      "Data columns (total 11 columns):\n",
      " #   Column                  Non-Null Count  Dtype \n",
      "---  ------                  --------------  ----- \n",
      " 0   country                 23524 non-null  object\n",
      " 1   bank_account            23524 non-null  int64 \n",
      " 2   Urban_location          23524 non-null  int64 \n",
      " 3   cellphone_access        23524 non-null  int64 \n",
      " 4   household_size          23524 non-null  int64 \n",
      " 5   age_of_respondent       23524 non-null  int64 \n",
      " 6   gender_of_respondent    23524 non-null  int64 \n",
      " 7   relationship_with_head  23524 non-null  object\n",
      " 8   marital_status          23524 non-null  object\n",
      " 9   education_level         23524 non-null  object\n",
      " 10  job_type                23524 non-null  object\n",
      "dtypes: int64(6), object(5)\n",
      "memory usage: 2.0+ MB\n"
     ]
    }
   ],
   "source": [
    "df['bank_account'] = df['bank_account'].map({'No': 0, 'Yes': 1})\n",
    "df['location_type'] = df['location_type'].map({'Rural': 0, 'Urban': 1})\n",
    "df.columns = df.columns.str.replace('location_type','Urban_location')\n",
    "df['cellphone_access'] = df['cellphone_access'].map({'No': 0, 'Yes': 1})\n",
    "df['gender_of_respondent'] = df['gender_of_respondent'].map({'Male': 0, 'Female': 1})\n",
    "df.info()\n"
   ]
  },
  {
   "cell_type": "code",
   "execution_count": 10,
   "metadata": {},
   "outputs": [],
   "source": [
    "# get dummies for categorical values\n",
    "df = pd.get_dummies(df, columns=['country',\n",
    "                    'relationship_with_head', 'marital_status',\n",
    "                    'education_level', 'job_type'])"
   ]
  },
  {
   "cell_type": "code",
   "execution_count": 11,
   "metadata": {},
   "outputs": [
    {
     "name": "stdout",
     "output_type": "stream",
     "text": [
      "<class 'pandas.core.frame.DataFrame'>\n",
      "RangeIndex: 23524 entries, 0 to 23523\n",
      "Data columns (total 37 columns):\n",
      " #   Column                                           Non-Null Count  Dtype\n",
      "---  ------                                           --------------  -----\n",
      " 0   bank_account                                     23524 non-null  int64\n",
      " 1   Urban_location                                   23524 non-null  int64\n",
      " 2   cellphone_access                                 23524 non-null  int64\n",
      " 3   household_size                                   23524 non-null  int64\n",
      " 4   age_of_respondent                                23524 non-null  int64\n",
      " 5   gender_of_respondent                             23524 non-null  int64\n",
      " 6   country_Kenya                                    23524 non-null  bool \n",
      " 7   country_Rwanda                                   23524 non-null  bool \n",
      " 8   country_Tanzania                                 23524 non-null  bool \n",
      " 9   country_Uganda                                   23524 non-null  bool \n",
      " 10  relationship_with_head_Child                     23524 non-null  bool \n",
      " 11  relationship_with_head_Head of Household         23524 non-null  bool \n",
      " 12  relationship_with_head_Other non-relatives       23524 non-null  bool \n",
      " 13  relationship_with_head_Other relative            23524 non-null  bool \n",
      " 14  relationship_with_head_Parent                    23524 non-null  bool \n",
      " 15  relationship_with_head_Spouse                    23524 non-null  bool \n",
      " 16  marital_status_Divorced/Seperated                23524 non-null  bool \n",
      " 17  marital_status_Dont know                         23524 non-null  bool \n",
      " 18  marital_status_Married/Living together           23524 non-null  bool \n",
      " 19  marital_status_Single/Never Married              23524 non-null  bool \n",
      " 20  marital_status_Widowed                           23524 non-null  bool \n",
      " 21  education_level_No formal education              23524 non-null  bool \n",
      " 22  education_level_Other/Dont know/RTA              23524 non-null  bool \n",
      " 23  education_level_Primary education                23524 non-null  bool \n",
      " 24  education_level_Secondary education              23524 non-null  bool \n",
      " 25  education_level_Tertiary education               23524 non-null  bool \n",
      " 26  education_level_Vocational/Specialised training  23524 non-null  bool \n",
      " 27  job_type_Dont Know/Refuse to answer              23524 non-null  bool \n",
      " 28  job_type_Farming and Fishing                     23524 non-null  bool \n",
      " 29  job_type_Formally employed Government            23524 non-null  bool \n",
      " 30  job_type_Formally employed Private               23524 non-null  bool \n",
      " 31  job_type_Government Dependent                    23524 non-null  bool \n",
      " 32  job_type_Informally employed                     23524 non-null  bool \n",
      " 33  job_type_No Income                               23524 non-null  bool \n",
      " 34  job_type_Other Income                            23524 non-null  bool \n",
      " 35  job_type_Remittance Dependent                    23524 non-null  bool \n",
      " 36  job_type_Self employed                           23524 non-null  bool \n",
      "dtypes: bool(31), int64(6)\n",
      "memory usage: 1.8 MB\n"
     ]
    }
   ],
   "source": [
    "df.info()"
   ]
  },
  {
   "cell_type": "code",
   "execution_count": 12,
   "metadata": {},
   "outputs": [
    {
     "data": {
      "text/plain": [
       "Index(['bank_account', 'Urban_location', 'cellphone_access', 'household_size',\n",
       "       'age_of_respondent', 'gender_of_respondent', 'country_Kenya',\n",
       "       'country_Rwanda', 'country_Tanzania', 'country_Uganda',\n",
       "       'relationship_with_head_Child',\n",
       "       'relationship_with_head_Head of Household',\n",
       "       'relationship_with_head_Other non-relatives',\n",
       "       'relationship_with_head_Other relative',\n",
       "       'relationship_with_head_Parent', 'relationship_with_head_Spouse',\n",
       "       'marital_status_Divorced/Seperated', 'marital_status_Dont know',\n",
       "       'marital_status_Married/Living together',\n",
       "       'marital_status_Single/Never Married', 'marital_status_Widowed',\n",
       "       'education_level_No formal education',\n",
       "       'education_level_Other/Dont know/RTA',\n",
       "       'education_level_Primary education',\n",
       "       'education_level_Secondary education',\n",
       "       'education_level_Tertiary education',\n",
       "       'education_level_Vocational/Specialised training',\n",
       "       'job_type_Dont Know/Refuse to answer', 'job_type_Farming and Fishing',\n",
       "       'job_type_Formally employed Government',\n",
       "       'job_type_Formally employed Private', 'job_type_Government Dependent',\n",
       "       'job_type_Informally employed', 'job_type_No Income',\n",
       "       'job_type_Other Income', 'job_type_Remittance Dependent',\n",
       "       'job_type_Self employed'],\n",
       "      dtype='object')"
      ]
     },
     "execution_count": 12,
     "metadata": {},
     "output_type": "execute_result"
    }
   ],
   "source": [
    "df.columns"
   ]
  },
  {
   "cell_type": "code",
   "execution_count": 13,
   "metadata": {},
   "outputs": [],
   "source": [
    "# Basic Model\n",
    "job_type_columns = ['job_type_Dont Know/Refuse to answer', 'job_type_Farming and Fishing',\n",
    "       'job_type_Formally employed Government',\n",
    "       'job_type_Formally employed Private', 'job_type_Government Dependent',\n",
    "       'job_type_Informally employed', 'job_type_No Income',\n",
    "       'job_type_Other Income', 'job_type_Remittance Dependent',\n",
    "       'job_type_Self employed']\n",
    "education_columns = ['education_level_No formal education',\n",
    "       'education_level_Other/Dont know/RTA',\n",
    "       'education_level_Primary education',\n",
    "       'education_level_Secondary education',\n",
    "       'education_level_Tertiary education',\n",
    "       'education_level_Vocational/Specialised training']\n",
    "\n",
    "X = df[job_type_columns]\n",
    "y = df['bank_account']"
   ]
  },
  {
   "cell_type": "code",
   "execution_count": 14,
   "metadata": {},
   "outputs": [],
   "source": [
    "# Train-Test-Split\n",
    "X_train, X_test, y_train, y_test = train_test_split(X, y,\n",
    "                                                    test_size=0.3,\n",
    "                                                    random_state=123,\n",
    "                                                    stratify=y)"
   ]
  },
  {
   "cell_type": "code",
   "execution_count": 15,
   "metadata": {},
   "outputs": [
    {
     "name": "stdout",
     "output_type": "stream",
     "text": [
      "(16466, 10)\n",
      "(7058, 10)\n",
      "(16466,)\n",
      "(7058,)\n"
     ]
    }
   ],
   "source": [
    "print(X_train.shape)\n",
    "print(X_test.shape)\n",
    "print(y_train.shape)\n",
    "print(y_test.shape)"
   ]
  },
  {
   "cell_type": "code",
   "execution_count": 16,
   "metadata": {},
   "outputs": [
    {
     "data": {
      "text/plain": [
       "bank_account\n",
       "0    6064\n",
       "1     994\n",
       "Name: count, dtype: int64"
      ]
     },
     "execution_count": 16,
     "metadata": {},
     "output_type": "execute_result"
    }
   ],
   "source": [
    "y_test.value_counts()"
   ]
  },
  {
   "cell_type": "code",
   "execution_count": 21,
   "metadata": {},
   "outputs": [],
   "source": [
    "def knn_model(X_train, X_test, y_train, y_test, k=15):\n",
    "    # Train model\n",
    "    knn = KNeighborsClassifier(n_neighbors=k, metric='euclidean')\n",
    "    knn.fit(X_train, y_train)\n",
    "\n",
    "    # Predict on test set\n",
    "    y_pred = knn.predict(X_test)\n",
    "\n",
    "    accuracy = (round(accuracy_score(y_test, y_pred),2))\n",
    "    precision =  (round(precision_score(y_test, y_pred),2))\n",
    "    mae =  (round(mean_absolute_error(y_test, y_pred),2))\n",
    "    print('Metrics for KNN Model')\n",
    "    print('---'*15)\n",
    "    #print('Confusion Matrix log reg: ')\n",
    "    print(confusion_matrix(y_test, y_pred))\n",
    "    print('Accuracy: ', accuracy)\n",
    "    print('Precision: ', precision)\n",
    "    print('MAE: ', mae)\n",
    "    print('Confusion Matrix: ')\n",
    "    print(confusion_matrix(y_test, y_pred))\n",
    "    ConfusionMatrixDisplay.from_estimator(knn, X_test, y_test, cmap= 'YlGn')\n",
    "    #ConfusionMatrixDisplay(confusion_matrix=confusion_matrix(y_test, y_pred), normaliza=all).plot()\n",
    "    #sns.heatmap(confusion_matrix(y_test, y_pred), annot=True, cmap='YlGn')\n",
    "\n",
    "    return(y_pred, accuracy,precision, mae)"
   ]
  },
  {
   "cell_type": "code",
   "execution_count": 22,
   "metadata": {},
   "outputs": [
    {
     "name": "stdout",
     "output_type": "stream",
     "text": [
      "Metrics for KNN Model\n",
      "---------------------------------------------\n",
      "[[5889  175]\n",
      " [ 741  253]]\n",
      "Accuracy:  0.87\n",
      "Precision:  0.59\n",
      "MAE:  0.13\n",
      "Confusion Matrix: \n",
      "[[5889  175]\n",
      " [ 741  253]]\n"
     ]
    },
    {
     "data": {
      "text/plain": [
       "(array([0, 0, 0, ..., 0, 0, 0]), 0.87, 0.59, 0.13)"
      ]
     },
     "execution_count": 22,
     "metadata": {},
     "output_type": "execute_result"
    },
    {
     "data": {
      "image/png": "[encoded data removed]",
      "text/plain": [
       "<Figure size 640x480 with 2 Axes>"
      ]
     },
     "metadata": {},
     "output_type": "display_data"
    }
   ],
   "source": [
    "knn_model(X_train, X_test, y_train, y_test, k=15)"
   ]
  }
 ],
 "metadata": {
  "kernelspec": {
   "display_name": ".venv",
   "language": "python",
   "name": "python3"
  },
  "language_info": {
   "codemirror_mode": {
    "name": "ipython",
    "version": 3
   },
   "file_extension": ".py",
   "mimetype": "text/x-python",
   "name": "python",
   "nbconvert_exporter": "python",
   "pygments_lexer": "ipython3",
   "version": "3.11.3"
  }
 },
 "nbformat": 4,
 "nbformat_minor": 2
}
