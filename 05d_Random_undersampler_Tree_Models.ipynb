{
 "cells": [
  {
   "cell_type": "code",
   "execution_count": 32,
   "metadata": {},
   "outputs": [],
   "source": [
    "import numpy as np\n",
    "import pandas as pd\n",
    "import matplotlib.pyplot as plt\n",
    "import seaborn as sns\n",
    "\n",
    "from collections import Counter\n",
    "from sklearn.cluster import MiniBatchKMeans\n",
    "from imblearn.under_sampling import RandomUnderSampler\n",
    "\n",
    "from sklearn.neighbors import KNeighborsClassifier\n",
    "from sklearn.linear_model import LogisticRegression\n",
    "from sklearn.metrics import confusion_matrix, ConfusionMatrixDisplay, accuracy_score, precision_score, recall_score, mean_absolute_error\n",
    "from sklearn.tree import plot_tree, DecisionTreeClassifier \n",
    "from sklearn.ensemble import RandomForestClassifier, ExtraTreesClassifier\n",
    "from sklearn.preprocessing import StandardScaler, MinMaxScaler\n",
    "from sklearn.model_selection import train_test_split, cross_val_score, GridSearchCV, RandomizedSearchCV\n",
    "from sklearn.feature_selection import SelectFromModel"
   ]
  },
  {
   "cell_type": "code",
   "execution_count": 33,
   "metadata": {},
   "outputs": [
    {
     "name": "stdout",
     "output_type": "stream",
     "text": [
      "train data shape : (23524, 13)\n"
     ]
    },
    {
     "data": {
      "text/html": [
       "<div>\n",
       "<style scoped>\n",
       "    .dataframe tbody tr th:only-of-type {\n",
       "        vertical-align: middle;\n",
       "    }\n",
       "\n",
       "    .dataframe tbody tr th {\n",
       "        vertical-align: top;\n",
       "    }\n",
       "\n",
       "    .dataframe thead th {\n",
       "        text-align: right;\n",
       "    }\n",
       "</style>\n",
       "<table border=\"1\" class=\"dataframe\">\n",
       "  <thead>\n",
       "    <tr style=\"text-align: right;\">\n",
       "      <th></th>\n",
       "      <th>country</th>\n",
       "      <th>year</th>\n",
       "      <th>uniqueid</th>\n",
       "      <th>bank_account</th>\n",
       "      <th>location_type</th>\n",
       "      <th>cellphone_access</th>\n",
       "      <th>household_size</th>\n",
       "      <th>age_of_respondent</th>\n",
       "      <th>gender_of_respondent</th>\n",
       "      <th>relationship_with_head</th>\n",
       "      <th>marital_status</th>\n",
       "      <th>education_level</th>\n",
       "      <th>job_type</th>\n",
       "    </tr>\n",
       "  </thead>\n",
       "  <tbody>\n",
       "    <tr>\n",
       "      <th>0</th>\n",
       "      <td>Kenya</td>\n",
       "      <td>2018</td>\n",
       "      <td>uniqueid_1</td>\n",
       "      <td>Yes</td>\n",
       "      <td>Rural</td>\n",
       "      <td>Yes</td>\n",
       "      <td>3</td>\n",
       "      <td>24</td>\n",
       "      <td>Female</td>\n",
       "      <td>Spouse</td>\n",
       "      <td>Married/Living together</td>\n",
       "      <td>Secondary education</td>\n",
       "      <td>Self employed</td>\n",
       "    </tr>\n",
       "    <tr>\n",
       "      <th>1</th>\n",
       "      <td>Kenya</td>\n",
       "      <td>2018</td>\n",
       "      <td>uniqueid_2</td>\n",
       "      <td>No</td>\n",
       "      <td>Rural</td>\n",
       "      <td>No</td>\n",
       "      <td>5</td>\n",
       "      <td>70</td>\n",
       "      <td>Female</td>\n",
       "      <td>Head of Household</td>\n",
       "      <td>Widowed</td>\n",
       "      <td>No formal education</td>\n",
       "      <td>Government Dependent</td>\n",
       "    </tr>\n",
       "    <tr>\n",
       "      <th>2</th>\n",
       "      <td>Kenya</td>\n",
       "      <td>2018</td>\n",
       "      <td>uniqueid_3</td>\n",
       "      <td>Yes</td>\n",
       "      <td>Urban</td>\n",
       "      <td>Yes</td>\n",
       "      <td>5</td>\n",
       "      <td>26</td>\n",
       "      <td>Male</td>\n",
       "      <td>Other relative</td>\n",
       "      <td>Single/Never Married</td>\n",
       "      <td>Vocational/Specialised training</td>\n",
       "      <td>Self employed</td>\n",
       "    </tr>\n",
       "    <tr>\n",
       "      <th>3</th>\n",
       "      <td>Kenya</td>\n",
       "      <td>2018</td>\n",
       "      <td>uniqueid_4</td>\n",
       "      <td>No</td>\n",
       "      <td>Rural</td>\n",
       "      <td>Yes</td>\n",
       "      <td>5</td>\n",
       "      <td>34</td>\n",
       "      <td>Female</td>\n",
       "      <td>Head of Household</td>\n",
       "      <td>Married/Living together</td>\n",
       "      <td>Primary education</td>\n",
       "      <td>Formally employed Private</td>\n",
       "    </tr>\n",
       "    <tr>\n",
       "      <th>4</th>\n",
       "      <td>Kenya</td>\n",
       "      <td>2018</td>\n",
       "      <td>uniqueid_5</td>\n",
       "      <td>No</td>\n",
       "      <td>Urban</td>\n",
       "      <td>No</td>\n",
       "      <td>8</td>\n",
       "      <td>26</td>\n",
       "      <td>Male</td>\n",
       "      <td>Child</td>\n",
       "      <td>Single/Never Married</td>\n",
       "      <td>Primary education</td>\n",
       "      <td>Informally employed</td>\n",
       "    </tr>\n",
       "  </tbody>\n",
       "</table>\n",
       "</div>"
      ],
      "text/plain": [
       "  country  year    uniqueid bank_account location_type cellphone_access   \n",
       "0   Kenya  2018  uniqueid_1          Yes         Rural              Yes  \\\n",
       "1   Kenya  2018  uniqueid_2           No         Rural               No   \n",
       "2   Kenya  2018  uniqueid_3          Yes         Urban              Yes   \n",
       "3   Kenya  2018  uniqueid_4           No         Rural              Yes   \n",
       "4   Kenya  2018  uniqueid_5           No         Urban               No   \n",
       "\n",
       "   household_size  age_of_respondent gender_of_respondent   \n",
       "0               3                 24               Female  \\\n",
       "1               5                 70               Female   \n",
       "2               5                 26                 Male   \n",
       "3               5                 34               Female   \n",
       "4               8                 26                 Male   \n",
       "\n",
       "  relationship_with_head           marital_status   \n",
       "0                 Spouse  Married/Living together  \\\n",
       "1      Head of Household                  Widowed   \n",
       "2         Other relative     Single/Never Married   \n",
       "3      Head of Household  Married/Living together   \n",
       "4                  Child     Single/Never Married   \n",
       "\n",
       "                   education_level                   job_type  \n",
       "0              Secondary education              Self employed  \n",
       "1              No formal education       Government Dependent  \n",
       "2  Vocational/Specialised training              Self employed  \n",
       "3                Primary education  Formally employed Private  \n",
       "4                Primary education        Informally employed  "
      ]
     },
     "execution_count": 33,
     "metadata": {},
     "output_type": "execute_result"
    }
   ],
   "source": [
    "# Load files into a pandas dataframe\n",
    "df = pd.read_csv('data/Train.csv')\n",
    "# Let’s observe the shape of our datasets.\n",
    "print('train data shape :', df.shape)\n",
    "# inspect train data\n",
    "df.head()"
   ]
  },
  {
   "cell_type": "code",
   "execution_count": 34,
   "metadata": {},
   "outputs": [
    {
     "data": {
      "text/html": [
       "<div>\n",
       "<style scoped>\n",
       "    .dataframe tbody tr th:only-of-type {\n",
       "        vertical-align: middle;\n",
       "    }\n",
       "\n",
       "    .dataframe tbody tr th {\n",
       "        vertical-align: top;\n",
       "    }\n",
       "\n",
       "    .dataframe thead th {\n",
       "        text-align: right;\n",
       "    }\n",
       "</style>\n",
       "<table border=\"1\" class=\"dataframe\">\n",
       "  <thead>\n",
       "    <tr style=\"text-align: right;\">\n",
       "      <th></th>\n",
       "      <th>country</th>\n",
       "      <th>bank_account</th>\n",
       "      <th>location_type</th>\n",
       "      <th>cellphone_access</th>\n",
       "      <th>household_size</th>\n",
       "      <th>age_of_respondent</th>\n",
       "      <th>gender_of_respondent</th>\n",
       "      <th>relationship_with_head</th>\n",
       "      <th>marital_status</th>\n",
       "      <th>education_level</th>\n",
       "      <th>job_type</th>\n",
       "    </tr>\n",
       "  </thead>\n",
       "  <tbody>\n",
       "    <tr>\n",
       "      <th>0</th>\n",
       "      <td>Kenya</td>\n",
       "      <td>Yes</td>\n",
       "      <td>Rural</td>\n",
       "      <td>Yes</td>\n",
       "      <td>3</td>\n",
       "      <td>24</td>\n",
       "      <td>Female</td>\n",
       "      <td>Spouse</td>\n",
       "      <td>Married/Living together</td>\n",
       "      <td>Secondary education</td>\n",
       "      <td>Self employed</td>\n",
       "    </tr>\n",
       "    <tr>\n",
       "      <th>1</th>\n",
       "      <td>Kenya</td>\n",
       "      <td>No</td>\n",
       "      <td>Rural</td>\n",
       "      <td>No</td>\n",
       "      <td>5</td>\n",
       "      <td>70</td>\n",
       "      <td>Female</td>\n",
       "      <td>Head of Household</td>\n",
       "      <td>Widowed</td>\n",
       "      <td>No formal education</td>\n",
       "      <td>Government Dependent</td>\n",
       "    </tr>\n",
       "    <tr>\n",
       "      <th>2</th>\n",
       "      <td>Kenya</td>\n",
       "      <td>Yes</td>\n",
       "      <td>Urban</td>\n",
       "      <td>Yes</td>\n",
       "      <td>5</td>\n",
       "      <td>26</td>\n",
       "      <td>Male</td>\n",
       "      <td>Other relative</td>\n",
       "      <td>Single/Never Married</td>\n",
       "      <td>Vocational/Specialised training</td>\n",
       "      <td>Self employed</td>\n",
       "    </tr>\n",
       "    <tr>\n",
       "      <th>3</th>\n",
       "      <td>Kenya</td>\n",
       "      <td>No</td>\n",
       "      <td>Rural</td>\n",
       "      <td>Yes</td>\n",
       "      <td>5</td>\n",
       "      <td>34</td>\n",
       "      <td>Female</td>\n",
       "      <td>Head of Household</td>\n",
       "      <td>Married/Living together</td>\n",
       "      <td>Primary education</td>\n",
       "      <td>Formally employed Private</td>\n",
       "    </tr>\n",
       "    <tr>\n",
       "      <th>4</th>\n",
       "      <td>Kenya</td>\n",
       "      <td>No</td>\n",
       "      <td>Urban</td>\n",
       "      <td>No</td>\n",
       "      <td>8</td>\n",
       "      <td>26</td>\n",
       "      <td>Male</td>\n",
       "      <td>Child</td>\n",
       "      <td>Single/Never Married</td>\n",
       "      <td>Primary education</td>\n",
       "      <td>Informally employed</td>\n",
       "    </tr>\n",
       "  </tbody>\n",
       "</table>\n",
       "</div>"
      ],
      "text/plain": [
       "  country bank_account location_type cellphone_access  household_size   \n",
       "0   Kenya          Yes         Rural              Yes               3  \\\n",
       "1   Kenya           No         Rural               No               5   \n",
       "2   Kenya          Yes         Urban              Yes               5   \n",
       "3   Kenya           No         Rural              Yes               5   \n",
       "4   Kenya           No         Urban               No               8   \n",
       "\n",
       "   age_of_respondent gender_of_respondent relationship_with_head   \n",
       "0                 24               Female                 Spouse  \\\n",
       "1                 70               Female      Head of Household   \n",
       "2                 26                 Male         Other relative   \n",
       "3                 34               Female      Head of Household   \n",
       "4                 26                 Male                  Child   \n",
       "\n",
       "            marital_status                  education_level   \n",
       "0  Married/Living together              Secondary education  \\\n",
       "1                  Widowed              No formal education   \n",
       "2     Single/Never Married  Vocational/Specialised training   \n",
       "3  Married/Living together                Primary education   \n",
       "4     Single/Never Married                Primary education   \n",
       "\n",
       "                    job_type  \n",
       "0              Self employed  \n",
       "1       Government Dependent  \n",
       "2              Self employed  \n",
       "3  Formally employed Private  \n",
       "4        Informally employed  "
      ]
     },
     "execution_count": 34,
     "metadata": {},
     "output_type": "execute_result"
    }
   ],
   "source": [
    "# drop columns I don't need for my model\n",
    "df.drop('year', axis=1, inplace=True)\n",
    "df.drop('uniqueid', axis=1, inplace=True)\n",
    "df.head()"
   ]
  },
  {
   "cell_type": "code",
   "execution_count": 35,
   "metadata": {},
   "outputs": [
    {
     "data": {
      "text/plain": [
       "Index(['country', 'bank_account', 'location_type', 'cellphone_access',\n",
       "       'household_size', 'age_of_respondent', 'gender_of_respondent',\n",
       "       'relationship_with_head', 'marital_status', 'education_level',\n",
       "       'job_type'],\n",
       "      dtype='object')"
      ]
     },
     "execution_count": 35,
     "metadata": {},
     "output_type": "execute_result"
    }
   ],
   "source": [
    "df.columns"
   ]
  },
  {
   "cell_type": "code",
   "execution_count": 36,
   "metadata": {},
   "outputs": [
    {
     "name": "stdout",
     "output_type": "stream",
     "text": [
      "<class 'pandas.core.frame.DataFrame'>\n",
      "RangeIndex: 23524 entries, 0 to 23523\n",
      "Data columns (total 11 columns):\n",
      " #   Column                  Non-Null Count  Dtype \n",
      "---  ------                  --------------  ----- \n",
      " 0   country                 23524 non-null  object\n",
      " 1   bank_account            23524 non-null  object\n",
      " 2   location_type           23524 non-null  object\n",
      " 3   cellphone_access        23524 non-null  object\n",
      " 4   household_size          23524 non-null  int64 \n",
      " 5   age_of_respondent       23524 non-null  int64 \n",
      " 6   gender_of_respondent    23524 non-null  object\n",
      " 7   relationship_with_head  23524 non-null  object\n",
      " 8   marital_status          23524 non-null  object\n",
      " 9   education_level         23524 non-null  object\n",
      " 10  job_type                23524 non-null  object\n",
      "dtypes: int64(2), object(9)\n",
      "memory usage: 2.0+ MB\n"
     ]
    }
   ],
   "source": [
    "df.info()"
   ]
  },
  {
   "cell_type": "code",
   "execution_count": 37,
   "metadata": {},
   "outputs": [
    {
     "data": {
      "text/plain": [
       "Index(['country', 'bank_account', 'location_type', 'cellphone_access',\n",
       "       'household_size', 'age_of_respondent', 'gender_of_respondent',\n",
       "       'relationship_with_head', 'marital_status', 'education_level',\n",
       "       'job_type'],\n",
       "      dtype='object')"
      ]
     },
     "execution_count": 37,
     "metadata": {},
     "output_type": "execute_result"
    }
   ],
   "source": [
    "df.columns"
   ]
  },
  {
   "cell_type": "code",
   "execution_count": 38,
   "metadata": {},
   "outputs": [],
   "source": [
    "df['bank_account'] = df['bank_account'].map({'No': 0, 'Yes': 1})\n",
    "df['location_type'] = df['location_type'].map({'Rural': 0, 'Urban': 1})\n",
    "df.columns = df.columns.str.replace('location_type','Urban_location')\n",
    "df['cellphone_access'] = df['cellphone_access'].map({'No': 0, 'Yes': 1})\n",
    "df['gender_of_respondent'] = df['gender_of_respondent'].map({'Male': 0, 'Female': 1})\n",
    "\n",
    "df['country'] =  df['country'].map({'Kenya':0, 'Rwanda':1, 'Tanzania':2, 'Uganda':3})\n",
    "\n",
    "df['relationship_with_head']=df['relationship_with_head'].map({'Spouse':0,\n",
    "                                                            'Head of Household':1,\n",
    "                                                            'Other relative':2,\n",
    "                                                            'Child':3,\n",
    "                                                            'Parent':4,\n",
    "                                                            'Other non-relatives':5})\n",
    "\n",
    "df['marital_status'] =df['marital_status'].map({'Married/Living together':0,\n",
    "                                                'Widowed':1,\n",
    "                                                'Single/Never Married':2,\n",
    "                                                'Divorced/Seperated':3,\n",
    "                                                'Dont know':4})\n",
    "\n",
    "\n",
    "df['education_level'] = df['education_level'].map({'Secondary education':0,\n",
    "                                                   'No formal education':1,\n",
    "                                                   'Vocational/Specialised training':2,\n",
    "                                                   'Primary education':3,\n",
    "                                                   'Tertiary education':4,\n",
    "                                                   'Other/Dont know/RTA':5\n",
    "                                                   }) \n",
    "  \n",
    "df['job_type'] = df['job_type'].map({'Self employed':0,\n",
    "                                     'Government Dependent':1,\n",
    "                                     'Formally employed Private':2,\n",
    "                                     'Informally employed':3,\n",
    "                                     'Formally employed Government':4,\n",
    "                                     'Farming and Fishing':5,\n",
    "                                     'Remittance Dependent':6,\n",
    "                                     'Other Income':7,\n",
    "                                     'Dont Know/Refuse to answer':8,\n",
    "                                     'No Income':9\n",
    "                                     })"
   ]
  },
  {
   "cell_type": "code",
   "execution_count": 39,
   "metadata": {},
   "outputs": [],
   "source": [
    "df[['country', 'bank_account', 'Urban_location', 'cellphone_access', 'gender_of_respondent',\n",
    "       'relationship_with_head', 'marital_status', 'education_level','job_type']] = df[['country', \n",
    "                                                                                        'bank_account', \n",
    "                                                                                        'Urban_location', \n",
    "                                                                                        'cellphone_access', \n",
    "                                                                                        'gender_of_respondent',\n",
    "       'relationship_with_head', 'marital_status', 'education_level','job_type']].astype('category')"
   ]
  },
  {
   "cell_type": "code",
   "execution_count": 40,
   "metadata": {},
   "outputs": [
    {
     "name": "stdout",
     "output_type": "stream",
     "text": [
      "<class 'pandas.core.frame.DataFrame'>\n",
      "RangeIndex: 23524 entries, 0 to 23523\n",
      "Data columns (total 11 columns):\n",
      " #   Column                  Non-Null Count  Dtype   \n",
      "---  ------                  --------------  -----   \n",
      " 0   country                 23524 non-null  category\n",
      " 1   bank_account            23524 non-null  category\n",
      " 2   Urban_location          23524 non-null  category\n",
      " 3   cellphone_access        23524 non-null  category\n",
      " 4   household_size          23524 non-null  int64   \n",
      " 5   age_of_respondent       23524 non-null  int64   \n",
      " 6   gender_of_respondent    23524 non-null  category\n",
      " 7   relationship_with_head  23524 non-null  category\n",
      " 8   marital_status          23524 non-null  category\n",
      " 9   education_level         23524 non-null  category\n",
      " 10  job_type                23524 non-null  category\n",
      "dtypes: category(9), int64(2)\n",
      "memory usage: 576.1 KB\n"
     ]
    }
   ],
   "source": [
    "df.info()"
   ]
  },
  {
   "cell_type": "code",
   "execution_count": 41,
   "metadata": {},
   "outputs": [],
   "source": [
    "selected_features = ['country', 'Urban_location', 'cellphone_access',\n",
    "       'household_size', 'age_of_respondent', 'gender_of_respondent',\n",
    "       'relationship_with_head', 'marital_status', 'education_level',\n",
    "       'job_type']"
   ]
  },
  {
   "cell_type": "code",
   "execution_count": 42,
   "metadata": {},
   "outputs": [],
   "source": [
    "\n",
    "X = df[selected_features]\n",
    "y = df['bank_account']"
   ]
  },
  {
   "cell_type": "code",
   "execution_count": 43,
   "metadata": {},
   "outputs": [
    {
     "name": "stdout",
     "output_type": "stream",
     "text": [
      "(16466, 10)\n",
      "(7058, 10)\n",
      "(16466,)\n",
      "(7058,)\n"
     ]
    }
   ],
   "source": [
    "# Train-Test-Split\n",
    "X_train, X_test, y_train, y_test = train_test_split(X, y,\n",
    "                                                    test_size=0.3,\n",
    "                                                    random_state=123,\n",
    "                                                    stratify=y)\n",
    "\n",
    "\n",
    "print(X_train.shape)\n",
    "print(X_test.shape)\n",
    "print(y_train.shape)\n",
    "print(y_test.shape)"
   ]
  },
  {
   "cell_type": "code",
   "execution_count": 44,
   "metadata": {},
   "outputs": [
    {
     "data": {
      "text/plain": [
       "bank_account\n",
       "0    14148\n",
       "1     2318\n",
       "Name: count, dtype: int64"
      ]
     },
     "execution_count": 44,
     "metadata": {},
     "output_type": "execute_result"
    }
   ],
   "source": [
    "y_train.value_counts()"
   ]
  },
  {
   "cell_type": "code",
   "execution_count": 45,
   "metadata": {},
   "outputs": [
    {
     "data": {
      "text/plain": [
       "bank_account\n",
       "0    6064\n",
       "1     994\n",
       "Name: count, dtype: int64"
      ]
     },
     "execution_count": 45,
     "metadata": {},
     "output_type": "execute_result"
    }
   ],
   "source": [
    "y_test.value_counts()"
   ]
  },
  {
   "cell_type": "code",
   "execution_count": 46,
   "metadata": {},
   "outputs": [
    {
     "name": "stdout",
     "output_type": "stream",
     "text": [
      "<class 'pandas.core.frame.DataFrame'>\n",
      "Index: 16466 entries, 6345 to 16242\n",
      "Data columns (total 10 columns):\n",
      " #   Column                  Non-Null Count  Dtype   \n",
      "---  ------                  --------------  -----   \n",
      " 0   country                 16466 non-null  category\n",
      " 1   Urban_location          16466 non-null  category\n",
      " 2   cellphone_access        16466 non-null  category\n",
      " 3   household_size          16466 non-null  int64   \n",
      " 4   age_of_respondent       16466 non-null  int64   \n",
      " 5   gender_of_respondent    16466 non-null  category\n",
      " 6   relationship_with_head  16466 non-null  category\n",
      " 7   marital_status          16466 non-null  category\n",
      " 8   education_level         16466 non-null  category\n",
      " 9   job_type                16466 non-null  category\n",
      "dtypes: category(8), int64(2)\n",
      "memory usage: 516.1 KB\n"
     ]
    }
   ],
   "source": [
    "X_train.info()"
   ]
  },
  {
   "cell_type": "markdown",
   "metadata": {},
   "source": [
    "Cluster Centroid undersampling method for inbalanced Data"
   ]
  },
  {
   "cell_type": "code",
   "execution_count": 47,
   "metadata": {},
   "outputs": [
    {
     "name": "stdout",
     "output_type": "stream",
     "text": [
      "original dataset shape Counter({0: 14148, 1: 2318})\n",
      "resample dataset shape Counter({0: 2318, 1: 2318})\n"
     ]
    }
   ],
   "source": [
    "#smote = SMOTE(random_state=89)\n",
    "#smote = SMOTENC(random_state=89, categorical_features=[0,1,2,5,6,7,8,9])\n",
    "rus = RandomUnderSampler(random_state=42)\n",
    "\n",
    "#fit predictor and target variable\n",
    "X_rus, y_rus = rus.fit_resample(X_train,y_train) # Resample the dataset\n",
    "\n",
    "print('original dataset shape', Counter(y_train))\n",
    "print('resample dataset shape', Counter(y_rus))"
   ]
  },
  {
   "cell_type": "code",
   "execution_count": 48,
   "metadata": {},
   "outputs": [],
   "source": [
    "def my_decision_tree_model(X_train, X_test, y_train, y_test, mycriterion = \"gini\", depth = 5, leaf=5): \n",
    "      \n",
    "    # Creating the classifier object\n",
    "    dec_tree = DecisionTreeClassifier(\n",
    "            class_weight = 'balanced',\n",
    "            criterion = mycriterion, \n",
    "            max_depth = depth, \n",
    "            min_samples_leaf = leaf\n",
    "            ) \n",
    "    \n",
    "    #class_weight = {0:0.58, 1:3.55},\n",
    "\n",
    "    # Performing training \n",
    "    dec_tree.fit(X_train, y_train) \n",
    "    y_pred = dec_tree.predict(X_test) \n",
    "\n",
    "    accuracy = (round(accuracy_score(y_test, y_pred),2))\n",
    "    precision =  (round(precision_score(y_test, y_pred),2))\n",
    "    recall =  (round(recall_score(y_test, y_pred),2))\n",
    "    mae =  (round(mean_absolute_error(y_test, y_pred),2))\n",
    "    print('Metrics Decision Tree Model')\n",
    "    print('---'*15)\n",
    "\n",
    "    sns.heatmap(confusion_matrix(y_test, y_pred), annot=True, cmap='YlGn',fmt=\".0f\")\n",
    "\n",
    "    print(f'Accuracy - Test: {accuracy} - Train: {(round(accuracy_score(y_train, dec_tree.predict(X_train)),2))}')\n",
    "    print(f'Precision (TP/(TP+FP)) - Test:  {precision} - Train: {(round(precision_score(y_train, dec_tree.predict(X_train)),2))}')\n",
    "    print(f'Recall (TP/(TP+FN)) - Test:  {recall} - Train: {(round(recall_score(y_train, dec_tree.predict(X_train)),2))}')\n",
    "    print(f'MAE - Test:  {mae}  - Train: {(round(mean_absolute_error(y_train, dec_tree.predict(X_train)),2))}')\n",
    "\n",
    "    return(y_pred, dec_tree)\n",
    "   "
   ]
  },
  {
   "cell_type": "code",
   "execution_count": 49,
   "metadata": {},
   "outputs": [
    {
     "name": "stdout",
     "output_type": "stream",
     "text": [
      "Metrics Decision Tree Model\n",
      "---------------------------------------------\n",
      "Accuracy - Test: 0.77 - Train: 0.68\n",
      "Precision (TP/(TP+FP)) - Test:  0.32 - Train: 0.74\n",
      "Recall (TP/(TP+FN)) - Test:  0.56 - Train: 0.56\n",
      "MAE - Test:  0.23  - Train: 0.32\n"
     ]
    },
    {
     "data": {
      "image/png": "[encoded data removed]",
      "text/plain": [
       "<Figure size 640x480 with 2 Axes>"
      ]
     },
     "metadata": {},
     "output_type": "display_data"
    }
   ],
   "source": [
    "my_pred_dec_tree, my_dec_tree = my_decision_tree_model(X_rus, X_test, y_rus, y_test, 'entropy', 3, 5)\n"
   ]
  },
  {
   "cell_type": "code",
   "execution_count": 50,
   "metadata": {},
   "outputs": [
    {
     "data": {
      "text/plain": [
       "{'ccp_alpha': 0.0,\n",
       " 'class_weight': 'balanced',\n",
       " 'criterion': 'entropy',\n",
       " 'max_depth': 3,\n",
       " 'max_features': None,\n",
       " 'max_leaf_nodes': None,\n",
       " 'min_impurity_decrease': 0.0,\n",
       " 'min_samples_leaf': 5,\n",
       " 'min_samples_split': 2,\n",
       " 'min_weight_fraction_leaf': 0.0,\n",
       " 'random_state': None,\n",
       " 'splitter': 'best'}"
      ]
     },
     "execution_count": 50,
     "metadata": {},
     "output_type": "execute_result"
    }
   ],
   "source": [
    "my_dec_tree.get_params()"
   ]
  },
  {
   "cell_type": "markdown",
   "metadata": {},
   "source": [
    "Random Forest"
   ]
  },
  {
   "cell_type": "code",
   "execution_count": 51,
   "metadata": {},
   "outputs": [],
   "source": [
    "def my_random_forest_model(X_train, X_test, y_train, y_test, tree_num, depth = 5, leaf=5):\n",
    "\n",
    "    # Create the model with 100 trees\n",
    "    forest_model = RandomForestClassifier(n_estimators=tree_num, \n",
    "                                class_weight = 'balanced',\n",
    "                                random_state=123, \n",
    "                                max_features = 'sqrt',\n",
    "                                max_depth = depth,\n",
    "                                min_samples_leaf = leaf,\n",
    "                                n_jobs=-1, verbose = 1)\n",
    "\n",
    "    # Fit on training data\n",
    "    forest_model.fit(X_train, y_train)\n",
    "    y_pred = forest_model.predict(X_test) \n",
    "\n",
    "    n_nodes = []\n",
    "    max_depths = []\n",
    "\n",
    "    # Stats about the trees in random forest\n",
    "    for tree_idx in forest_model.estimators_:\n",
    "        n_nodes.append(tree_idx.tree_.node_count)\n",
    "        max_depths.append(tree_idx.tree_.max_depth)\n",
    "    \n",
    "    print('Info Random Forest Model')\n",
    "    print('---'*15)\n",
    "    print(f'Average number of nodes {int(np.mean(n_nodes))}')\n",
    "    print(f'Average maximum depth {int(np.mean(max_depths))}')\n",
    "\n",
    "   \n",
    "   \n",
    "\n",
    "    accuracy = (round(accuracy_score(y_test, y_pred),2))\n",
    "    precision =  (round(precision_score(y_test, y_pred),2))\n",
    "    recall =  (round(recall_score(y_test, y_pred),2))\n",
    "    mae =  (round(mean_absolute_error(y_test, y_pred),2))\n",
    "    print('Metrics Random Forest Model')\n",
    "    print('---'*15)\n",
    "    #print('Confusion Matrix: ')\n",
    "    #print(confusion_matrix(y_test, y_pred))\n",
    "    sns.heatmap(confusion_matrix(y_test, y_pred), annot=True, cmap='YlGn',fmt=\".0f\")\n",
    "    #ConfusionMatrixDisplay.from_estimator(dec_tree, X_test, y_test, cmap= 'YlGn')\n",
    "    print(f'Accuracy - Test: {accuracy} - Train: {(round(accuracy_score(y_train, forest_model.predict(X_train)),2))}')\n",
    "    print(f'Precision (TP/(TP+FP)) - Test:  {precision} - Train: {(round(precision_score(y_train, forest_model.predict(X_train)),2))}')\n",
    "    print(f'Recall (TP/(TP+FN)) - Test:  {recall} - Train: {(round(recall_score(y_train, forest_model.predict(X_train)),2))}')\n",
    "    print(f'MAE - Test:  {mae}  - Train: {(round(mean_absolute_error(y_train, forest_model.predict(X_train)),2))}')\n",
    "    #ConfusionMatrixDisplay.from_estimator(dec_tree, X_test, y_test, normalize='all', cmap= 'YlGn')\n",
    "    \n",
    "    \n",
    "    return(y_pred, forest_model)"
   ]
  },
  {
   "cell_type": "code",
   "execution_count": 52,
   "metadata": {},
   "outputs": [
    {
     "name": "stderr",
     "output_type": "stream",
     "text": [
      "[Parallel(n_jobs=-1)]: Using backend ThreadingBackend with 8 concurrent workers.\n",
      "[Parallel(n_jobs=-1)]: Done  34 tasks      | elapsed:    0.1s\n",
      "[Parallel(n_jobs=-1)]: Done 100 out of 100 | elapsed:    0.2s finished\n",
      "[Parallel(n_jobs=8)]: Using backend ThreadingBackend with 8 concurrent workers.\n",
      "[Parallel(n_jobs=8)]: Done  34 tasks      | elapsed:    0.0s\n",
      "[Parallel(n_jobs=8)]: Done 100 out of 100 | elapsed:    0.1s finished\n",
      "[Parallel(n_jobs=8)]: Using backend ThreadingBackend with 8 concurrent workers.\n",
      "[Parallel(n_jobs=8)]: Done  34 tasks      | elapsed:    0.0s\n",
      "[Parallel(n_jobs=8)]: Done 100 out of 100 | elapsed:    0.0s finished\n",
      "[Parallel(n_jobs=8)]: Using backend ThreadingBackend with 8 concurrent workers.\n",
      "[Parallel(n_jobs=8)]: Done  34 tasks      | elapsed:    0.0s\n",
      "[Parallel(n_jobs=8)]: Done 100 out of 100 | elapsed:    0.0s finished\n",
      "[Parallel(n_jobs=8)]: Using backend ThreadingBackend with 8 concurrent workers.\n",
      "[Parallel(n_jobs=8)]: Done  34 tasks      | elapsed:    0.0s\n",
      "[Parallel(n_jobs=8)]: Done 100 out of 100 | elapsed:    0.0s finished\n",
      "[Parallel(n_jobs=8)]: Using backend ThreadingBackend with 8 concurrent workers.\n",
      "[Parallel(n_jobs=8)]: Done  34 tasks      | elapsed:    0.0s\n",
      "[Parallel(n_jobs=8)]: Done 100 out of 100 | elapsed:    0.0s finished\n"
     ]
    },
    {
     "name": "stdout",
     "output_type": "stream",
     "text": [
      "Info Random Forest Model\n",
      "---------------------------------------------\n",
      "Average number of nodes 55\n",
      "Average maximum depth 5\n",
      "Metrics Random Forest Model\n",
      "---------------------------------------------\n",
      "Accuracy - Test: 0.73 - Train: 0.75\n",
      "Precision (TP/(TP+FP)) - Test:  0.31 - Train: 0.74\n",
      "Recall (TP/(TP+FN)) - Test:  0.77 - Train: 0.77\n",
      "MAE - Test:  0.27  - Train: 0.25\n"
     ]
    },
    {
     "data": {
      "image/png": "[encoded data removed]",
      "text/plain": [
       "<Figure size 640x480 with 2 Axes>"
      ]
     },
     "metadata": {},
     "output_type": "display_data"
    }
   ],
   "source": [
    "my_pred_forest_model, my_forest_model = my_random_forest_model(X_rus, X_test, y_rus, y_test, 100, 5, 5)"
   ]
  },
  {
   "cell_type": "code",
   "execution_count": 53,
   "metadata": {},
   "outputs": [
    {
     "data": {
      "text/plain": [
       "{'bootstrap': True,\n",
       " 'ccp_alpha': 0.0,\n",
       " 'class_weight': 'balanced',\n",
       " 'criterion': 'gini',\n",
       " 'max_depth': 5,\n",
       " 'max_features': 'sqrt',\n",
       " 'max_leaf_nodes': None,\n",
       " 'max_samples': None,\n",
       " 'min_impurity_decrease': 0.0,\n",
       " 'min_samples_leaf': 5,\n",
       " 'min_samples_split': 2,\n",
       " 'min_weight_fraction_leaf': 0.0,\n",
       " 'n_estimators': 100,\n",
       " 'n_jobs': -1,\n",
       " 'oob_score': False,\n",
       " 'random_state': 123,\n",
       " 'verbose': 1,\n",
       " 'warm_start': False}"
      ]
     },
     "execution_count": 53,
     "metadata": {},
     "output_type": "execute_result"
    }
   ],
   "source": [
    "my_forest_model.get_params()"
   ]
  },
  {
   "cell_type": "markdown",
   "metadata": {},
   "source": [
    "Test - different features  \n",
    "\n",
    "Feature importance (Tree)"
   ]
  },
  {
   "cell_type": "code",
   "execution_count": 54,
   "metadata": {},
   "outputs": [
    {
     "data": {
      "text/html": [
       "<div>\n",
       "<style scoped>\n",
       "    .dataframe tbody tr th:only-of-type {\n",
       "        vertical-align: middle;\n",
       "    }\n",
       "\n",
       "    .dataframe tbody tr th {\n",
       "        vertical-align: top;\n",
       "    }\n",
       "\n",
       "    .dataframe thead th {\n",
       "        text-align: right;\n",
       "    }\n",
       "</style>\n",
       "<table border=\"1\" class=\"dataframe\">\n",
       "  <thead>\n",
       "    <tr style=\"text-align: right;\">\n",
       "      <th></th>\n",
       "      <th>feature_name</th>\n",
       "      <th>feature_importance</th>\n",
       "    </tr>\n",
       "  </thead>\n",
       "  <tbody>\n",
       "    <tr>\n",
       "      <th>5</th>\n",
       "      <td>gender_of_respondent</td>\n",
       "      <td>0.026141</td>\n",
       "    </tr>\n",
       "    <tr>\n",
       "      <th>1</th>\n",
       "      <td>Urban_location</td>\n",
       "      <td>0.033667</td>\n",
       "    </tr>\n",
       "    <tr>\n",
       "      <th>6</th>\n",
       "      <td>relationship_with_head</td>\n",
       "      <td>0.045094</td>\n",
       "    </tr>\n",
       "    <tr>\n",
       "      <th>7</th>\n",
       "      <td>marital_status</td>\n",
       "      <td>0.047533</td>\n",
       "    </tr>\n",
       "    <tr>\n",
       "      <th>0</th>\n",
       "      <td>country</td>\n",
       "      <td>0.086051</td>\n",
       "    </tr>\n",
       "    <tr>\n",
       "      <th>2</th>\n",
       "      <td>cellphone_access</td>\n",
       "      <td>0.110548</td>\n",
       "    </tr>\n",
       "    <tr>\n",
       "      <th>9</th>\n",
       "      <td>job_type</td>\n",
       "      <td>0.119964</td>\n",
       "    </tr>\n",
       "    <tr>\n",
       "      <th>8</th>\n",
       "      <td>education_level</td>\n",
       "      <td>0.123898</td>\n",
       "    </tr>\n",
       "    <tr>\n",
       "      <th>3</th>\n",
       "      <td>household_size</td>\n",
       "      <td>0.131127</td>\n",
       "    </tr>\n",
       "    <tr>\n",
       "      <th>4</th>\n",
       "      <td>age_of_respondent</td>\n",
       "      <td>0.275976</td>\n",
       "    </tr>\n",
       "  </tbody>\n",
       "</table>\n",
       "</div>"
      ],
      "text/plain": [
       "             feature_name  feature_importance\n",
       "5    gender_of_respondent            0.026141\n",
       "1          Urban_location            0.033667\n",
       "6  relationship_with_head            0.045094\n",
       "7          marital_status            0.047533\n",
       "0                 country            0.086051\n",
       "2        cellphone_access            0.110548\n",
       "9                job_type            0.119964\n",
       "8         education_level            0.123898\n",
       "3          household_size            0.131127\n",
       "4       age_of_respondent            0.275976"
      ]
     },
     "execution_count": 54,
     "metadata": {},
     "output_type": "execute_result"
    }
   ],
   "source": [
    "\n",
    "et_clf = ExtraTreesClassifier(n_estimators=50)\n",
    "et_clf = et_clf.fit(X_rus, y_rus)\n",
    "feature_importances = et_clf.feature_importances_  \n",
    "fi_lst = []\n",
    "for idx, i in enumerate(selected_features):\n",
    "    fi_lst.append({'feature_name': i, 'feature_importance': feature_importances[idx]})\n",
    "    #print(i, feature_importances[idx])\n",
    "feature_df = pd.DataFrame(fi_lst) \n",
    "feature_df.sort_values('feature_importance')  "
   ]
  },
  {
   "cell_type": "code",
   "execution_count": 55,
   "metadata": {},
   "outputs": [
    {
     "data": {
      "image/png": "[encoded data removed]",
      "text/plain": [
       "<Figure size 1200x800 with 1 Axes>"
      ]
     },
     "metadata": {},
     "output_type": "display_data"
    }
   ],
   "source": [
    "plt.figure(figsize=(12, 8))\n",
    "sns.barplot(x=feature_df['feature_name'],\n",
    "            y=feature_df['feature_importance'].sort_values(ascending=False),\n",
    "            palette=\"viridis\")\n",
    "plt.title('Feature importance')\n",
    "plt.xlabel('Features')\n",
    "plt.ylabel('Feature importance')\n",
    "plt.xticks(rotation=45, ha=\"right\")\n",
    "plt.show()"
   ]
  },
  {
   "cell_type": "code",
   "execution_count": 56,
   "metadata": {},
   "outputs": [
    {
     "data": {
      "text/plain": [
       "['gender_of_respondent',\n",
       " 'Urban_location',\n",
       " 'relationship_with_head',\n",
       " 'marital_status',\n",
       " 'country',\n",
       " 'cellphone_access',\n",
       " 'job_type',\n",
       " 'education_level',\n",
       " 'household_size',\n",
       " 'age_of_respondent']"
      ]
     },
     "execution_count": 56,
     "metadata": {},
     "output_type": "execute_result"
    }
   ],
   "source": [
    "feature_list = feature_df.sort_values('feature_importance').feature_name.to_list()\n",
    "feature_list"
   ]
  },
  {
   "cell_type": "code",
   "execution_count": 57,
   "metadata": {},
   "outputs": [],
   "source": [
    "def decision_tree_model(X_train, X_test, y_train, y_test, mycriterion = \"gini\", depth = 5, leaf=5): \n",
    "      \n",
    "    # Creating the classifier object\n",
    "    dec_tree = DecisionTreeClassifier(\n",
    "            class_weight = 'balanced',\n",
    "            criterion = mycriterion, \n",
    "            max_depth = depth, \n",
    "            min_samples_leaf = leaf\n",
    "            ) \n",
    "    \n",
    "    #class_weight = {0:0.58, 1:3.55},\n",
    "\n",
    "    # Performing training \n",
    "    dec_tree.fit(X_train, y_train) \n",
    "    y_pred = dec_tree.predict(X_test) \n",
    "\n",
    "    accuracy = (round(accuracy_score(y_test, y_pred),2))\n",
    "    precision =  (round(precision_score(y_test, y_pred),2))\n",
    "    recall =  (round(recall_score(y_test, y_pred),2))\n",
    "    mae =  (round(mean_absolute_error(y_test, y_pred),2))\n",
    "    \n",
    "    return(accuracy,precision,recall,mae)\n",
    "   "
   ]
  },
  {
   "cell_type": "code",
   "execution_count": 58,
   "metadata": {},
   "outputs": [],
   "source": [
    "selected_features = ['country', 'Urban_location', 'cellphone_access',\n",
    "       'household_size', 'age_of_respondent', 'gender_of_respondent',\n",
    "       'relationship_with_head', 'marital_status', 'education_level',\n",
    "       'job_type']"
   ]
  },
  {
   "cell_type": "code",
   "execution_count": 59,
   "metadata": {},
   "outputs": [
    {
     "data": {
      "text/html": [
       "<div>\n",
       "<style scoped>\n",
       "    .dataframe tbody tr th:only-of-type {\n",
       "        vertical-align: middle;\n",
       "    }\n",
       "\n",
       "    .dataframe tbody tr th {\n",
       "        vertical-align: top;\n",
       "    }\n",
       "\n",
       "    .dataframe thead th {\n",
       "        text-align: right;\n",
       "    }\n",
       "</style>\n",
       "<table border=\"1\" class=\"dataframe\">\n",
       "  <thead>\n",
       "    <tr style=\"text-align: right;\">\n",
       "      <th></th>\n",
       "      <th>del_feature</th>\n",
       "      <th>accuracy</th>\n",
       "      <th>precision</th>\n",
       "      <th>recall</th>\n",
       "      <th>mae</th>\n",
       "    </tr>\n",
       "  </thead>\n",
       "  <tbody>\n",
       "    <tr>\n",
       "      <th>0</th>\n",
       "      <td>gender_of_respondent</td>\n",
       "      <td>0.76</td>\n",
       "      <td>0.33</td>\n",
       "      <td>0.67</td>\n",
       "      <td>0.24</td>\n",
       "    </tr>\n",
       "    <tr>\n",
       "      <th>1</th>\n",
       "      <td>Urban_location</td>\n",
       "      <td>0.76</td>\n",
       "      <td>0.33</td>\n",
       "      <td>0.67</td>\n",
       "      <td>0.24</td>\n",
       "    </tr>\n",
       "    <tr>\n",
       "      <th>2</th>\n",
       "      <td>relationship_with_head</td>\n",
       "      <td>0.77</td>\n",
       "      <td>0.34</td>\n",
       "      <td>0.65</td>\n",
       "      <td>0.23</td>\n",
       "    </tr>\n",
       "    <tr>\n",
       "      <th>3</th>\n",
       "      <td>marital_status</td>\n",
       "      <td>0.77</td>\n",
       "      <td>0.34</td>\n",
       "      <td>0.65</td>\n",
       "      <td>0.23</td>\n",
       "    </tr>\n",
       "    <tr>\n",
       "      <th>4</th>\n",
       "      <td>country</td>\n",
       "      <td>0.77</td>\n",
       "      <td>0.34</td>\n",
       "      <td>0.65</td>\n",
       "      <td>0.23</td>\n",
       "    </tr>\n",
       "    <tr>\n",
       "      <th>5</th>\n",
       "      <td>cellphone_access</td>\n",
       "      <td>0.73</td>\n",
       "      <td>0.30</td>\n",
       "      <td>0.73</td>\n",
       "      <td>0.27</td>\n",
       "    </tr>\n",
       "    <tr>\n",
       "      <th>6</th>\n",
       "      <td>job_type</td>\n",
       "      <td>0.83</td>\n",
       "      <td>0.42</td>\n",
       "      <td>0.60</td>\n",
       "      <td>0.17</td>\n",
       "    </tr>\n",
       "    <tr>\n",
       "      <th>7</th>\n",
       "      <td>education_level</td>\n",
       "      <td>0.83</td>\n",
       "      <td>0.43</td>\n",
       "      <td>0.59</td>\n",
       "      <td>0.17</td>\n",
       "    </tr>\n",
       "    <tr>\n",
       "      <th>8</th>\n",
       "      <td>household_size</td>\n",
       "      <td>0.49</td>\n",
       "      <td>0.17</td>\n",
       "      <td>0.67</td>\n",
       "      <td>0.51</td>\n",
       "    </tr>\n",
       "    <tr>\n",
       "      <th>9</th>\n",
       "      <td>age_of_respondent</td>\n",
       "      <td>0.38</td>\n",
       "      <td>0.16</td>\n",
       "      <td>0.82</td>\n",
       "      <td>0.62</td>\n",
       "    </tr>\n",
       "  </tbody>\n",
       "</table>\n",
       "</div>"
      ],
      "text/plain": [
       "              del_feature  accuracy  precision  recall   mae\n",
       "0    gender_of_respondent      0.76       0.33    0.67  0.24\n",
       "1          Urban_location      0.76       0.33    0.67  0.24\n",
       "2  relationship_with_head      0.77       0.34    0.65  0.23\n",
       "3          marital_status      0.77       0.34    0.65  0.23\n",
       "4                 country      0.77       0.34    0.65  0.23\n",
       "5        cellphone_access      0.73       0.30    0.73  0.27\n",
       "6                job_type      0.83       0.42    0.60  0.17\n",
       "7         education_level      0.83       0.43    0.59  0.17\n",
       "8          household_size      0.49       0.17    0.67  0.51\n",
       "9       age_of_respondent      0.38       0.16    0.82  0.62"
      ]
     },
     "execution_count": 59,
     "metadata": {},
     "output_type": "execute_result"
    }
   ],
   "source": [
    "metrics_lst = []\n",
    "for item in feature_list:\n",
    "    X_loop = df[selected_features]\n",
    "    y_loop = df['bank_account']\n",
    "    # Train-Test-Split\n",
    "    X_loop_train, X_loop_test, y_loop_train, y_loop_test = train_test_split(X_loop, y_loop,\n",
    "                                                    test_size=0.3,\n",
    "                                                    random_state=123,\n",
    "                                                    stratify=y_loop)\n",
    "    rus = RandomUnderSampler(random_state=42)\n",
    "    #fit predictor and target variable\n",
    "    X_loop_rus, y_loop_rus = rus.fit_resample(X_loop,y_loop) # Resample the dataset\n",
    "    accuracy_loop,precision_loop,recall_loop,mae_loop =decision_tree_model(X_loop_rus, X_loop_test, y_loop_rus, y_loop_test)\n",
    "    metrics_lst.append({'del_feature': item,\n",
    "                      'accuracy': accuracy_loop,\n",
    "                      'precision':precision_loop,\n",
    "                      'recall': recall_loop,\n",
    "                      'mae':mae_loop})\n",
    "    selected_features.remove(item)\n",
    "\n",
    "metrics_df = pd.DataFrame(metrics_lst)\n",
    "metrics_df"
   ]
  },
  {
   "cell_type": "code",
   "execution_count": 60,
   "metadata": {},
   "outputs": [
    {
     "data": {
      "text/plain": [
       "[]"
      ]
     },
     "execution_count": 60,
     "metadata": {},
     "output_type": "execute_result"
    }
   ],
   "source": [
    "selected_features"
   ]
  },
  {
   "cell_type": "code",
   "execution_count": 61,
   "metadata": {},
   "outputs": [
    {
     "data": {
      "image/png": "[encoded data removed]",
      "text/plain": [
       "<Figure size 640x480 with 1 Axes>"
      ]
     },
     "metadata": {},
     "output_type": "display_data"
    }
   ],
   "source": [
    "# Plotting \n",
    "plt.style.use('ggplot') \n",
    "\n",
    "plt.plot(metrics_df.del_feature, metrics_df.recall,c=\"steelblue\", label=\"recall\")\n",
    "plt.plot(metrics_df.del_feature, metrics_df.accuracy,c=\"green\", label=\"accuracy\")\n",
    "plt.plot(metrics_df.del_feature, metrics_df.mae,c=\"red\", label=\"mae\")\n",
    "plt.plot(metrics_df.del_feature, metrics_df.precision,c=\"black\", label=\"precision\")\n",
    "plt.xticks(rotation=90, ha=\"right\")\n",
    "plt.legend()\n",
    "\n",
    "plt.show();"
   ]
  },
  {
   "cell_type": "code",
   "execution_count": 62,
   "metadata": {},
   "outputs": [
    {
     "data": {
      "text/html": [
       "<div>\n",
       "<style scoped>\n",
       "    .dataframe tbody tr th:only-of-type {\n",
       "        vertical-align: middle;\n",
       "    }\n",
       "\n",
       "    .dataframe tbody tr th {\n",
       "        vertical-align: top;\n",
       "    }\n",
       "\n",
       "    .dataframe thead th {\n",
       "        text-align: right;\n",
       "    }\n",
       "</style>\n",
       "<table border=\"1\" class=\"dataframe\">\n",
       "  <thead>\n",
       "    <tr style=\"text-align: right;\">\n",
       "      <th></th>\n",
       "      <th>feature_name</th>\n",
       "      <th>feature_importance</th>\n",
       "    </tr>\n",
       "  </thead>\n",
       "  <tbody>\n",
       "    <tr>\n",
       "      <th>5</th>\n",
       "      <td>gender_of_respondent</td>\n",
       "      <td>0.026141</td>\n",
       "    </tr>\n",
       "    <tr>\n",
       "      <th>1</th>\n",
       "      <td>Urban_location</td>\n",
       "      <td>0.033667</td>\n",
       "    </tr>\n",
       "    <tr>\n",
       "      <th>6</th>\n",
       "      <td>relationship_with_head</td>\n",
       "      <td>0.045094</td>\n",
       "    </tr>\n",
       "    <tr>\n",
       "      <th>7</th>\n",
       "      <td>marital_status</td>\n",
       "      <td>0.047533</td>\n",
       "    </tr>\n",
       "    <tr>\n",
       "      <th>0</th>\n",
       "      <td>country</td>\n",
       "      <td>0.086051</td>\n",
       "    </tr>\n",
       "    <tr>\n",
       "      <th>2</th>\n",
       "      <td>cellphone_access</td>\n",
       "      <td>0.110548</td>\n",
       "    </tr>\n",
       "    <tr>\n",
       "      <th>9</th>\n",
       "      <td>job_type</td>\n",
       "      <td>0.119964</td>\n",
       "    </tr>\n",
       "    <tr>\n",
       "      <th>8</th>\n",
       "      <td>education_level</td>\n",
       "      <td>0.123898</td>\n",
       "    </tr>\n",
       "    <tr>\n",
       "      <th>3</th>\n",
       "      <td>household_size</td>\n",
       "      <td>0.131127</td>\n",
       "    </tr>\n",
       "    <tr>\n",
       "      <th>4</th>\n",
       "      <td>age_of_respondent</td>\n",
       "      <td>0.275976</td>\n",
       "    </tr>\n",
       "  </tbody>\n",
       "</table>\n",
       "</div>"
      ],
      "text/plain": [
       "             feature_name  feature_importance\n",
       "5    gender_of_respondent            0.026141\n",
       "1          Urban_location            0.033667\n",
       "6  relationship_with_head            0.045094\n",
       "7          marital_status            0.047533\n",
       "0                 country            0.086051\n",
       "2        cellphone_access            0.110548\n",
       "9                job_type            0.119964\n",
       "8         education_level            0.123898\n",
       "3          household_size            0.131127\n",
       "4       age_of_respondent            0.275976"
      ]
     },
     "execution_count": 62,
     "metadata": {},
     "output_type": "execute_result"
    }
   ],
   "source": [
    "feature_df.sort_values('feature_importance')  "
   ]
  }
 ],
 "metadata": {
  "kernelspec": {
   "display_name": ".venv",
   "language": "python",
   "name": "python3"
  },
  "language_info": {
   "codemirror_mode": {
    "name": "ipython",
    "version": 3
   },
   "file_extension": ".py",
   "mimetype": "text/x-python",
   "name": "python",
   "nbconvert_exporter": "python",
   "pygments_lexer": "ipython3",
   "version": "3.11.3"
  }
 },
 "nbformat": 4,
 "nbformat_minor": 2
}
