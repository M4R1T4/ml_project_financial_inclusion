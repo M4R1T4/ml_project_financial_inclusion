{
 "cells": [
  {
   "cell_type": "code",
   "execution_count": 22,
   "metadata": {},
   "outputs": [],
   "source": [
    "import numpy as np\n",
    "import pandas as pd\n",
    "import matplotlib.pyplot as plt\n",
    "import seaborn as sns\n",
    "\n",
    "\n",
    "from sklearn.neighbors import KNeighborsClassifier\n",
    "from sklearn.linear_model import LogisticRegression\n",
    "from sklearn.metrics import confusion_matrix, ConfusionMatrixDisplay, accuracy_score, precision_score, recall_score, mean_absolute_error\n",
    "from sklearn.tree import plot_tree, DecisionTreeClassifier \n",
    "from sklearn.ensemble import RandomForestClassifier, ExtraTreesClassifier\n",
    "from sklearn.preprocessing import StandardScaler, MinMaxScaler\n",
    "from sklearn.model_selection import train_test_split, cross_val_score, GridSearchCV, RandomizedSearchCV\n",
    "from sklearn.feature_selection import SelectFromModel"
   ]
  },
  {
   "cell_type": "code",
   "execution_count": 23,
   "metadata": {},
   "outputs": [
    {
     "name": "stdout",
     "output_type": "stream",
     "text": [
      "train data shape : (23524, 13)\n"
     ]
    },
    {
     "data": {
      "text/html": [
       "<div>\n",
       "<style scoped>\n",
       "    .dataframe tbody tr th:only-of-type {\n",
       "        vertical-align: middle;\n",
       "    }\n",
       "\n",
       "    .dataframe tbody tr th {\n",
       "        vertical-align: top;\n",
       "    }\n",
       "\n",
       "    .dataframe thead th {\n",
       "        text-align: right;\n",
       "    }\n",
       "</style>\n",
       "<table border=\"1\" class=\"dataframe\">\n",
       "  <thead>\n",
       "    <tr style=\"text-align: right;\">\n",
       "      <th></th>\n",
       "      <th>country</th>\n",
       "      <th>year</th>\n",
       "      <th>uniqueid</th>\n",
       "      <th>bank_account</th>\n",
       "      <th>location_type</th>\n",
       "      <th>cellphone_access</th>\n",
       "      <th>household_size</th>\n",
       "      <th>age_of_respondent</th>\n",
       "      <th>gender_of_respondent</th>\n",
       "      <th>relationship_with_head</th>\n",
       "      <th>marital_status</th>\n",
       "      <th>education_level</th>\n",
       "      <th>job_type</th>\n",
       "    </tr>\n",
       "  </thead>\n",
       "  <tbody>\n",
       "    <tr>\n",
       "      <th>0</th>\n",
       "      <td>Kenya</td>\n",
       "      <td>2018</td>\n",
       "      <td>uniqueid_1</td>\n",
       "      <td>Yes</td>\n",
       "      <td>Rural</td>\n",
       "      <td>Yes</td>\n",
       "      <td>3</td>\n",
       "      <td>24</td>\n",
       "      <td>Female</td>\n",
       "      <td>Spouse</td>\n",
       "      <td>Married/Living together</td>\n",
       "      <td>Secondary education</td>\n",
       "      <td>Self employed</td>\n",
       "    </tr>\n",
       "    <tr>\n",
       "      <th>1</th>\n",
       "      <td>Kenya</td>\n",
       "      <td>2018</td>\n",
       "      <td>uniqueid_2</td>\n",
       "      <td>No</td>\n",
       "      <td>Rural</td>\n",
       "      <td>No</td>\n",
       "      <td>5</td>\n",
       "      <td>70</td>\n",
       "      <td>Female</td>\n",
       "      <td>Head of Household</td>\n",
       "      <td>Widowed</td>\n",
       "      <td>No formal education</td>\n",
       "      <td>Government Dependent</td>\n",
       "    </tr>\n",
       "    <tr>\n",
       "      <th>2</th>\n",
       "      <td>Kenya</td>\n",
       "      <td>2018</td>\n",
       "      <td>uniqueid_3</td>\n",
       "      <td>Yes</td>\n",
       "      <td>Urban</td>\n",
       "      <td>Yes</td>\n",
       "      <td>5</td>\n",
       "      <td>26</td>\n",
       "      <td>Male</td>\n",
       "      <td>Other relative</td>\n",
       "      <td>Single/Never Married</td>\n",
       "      <td>Vocational/Specialised training</td>\n",
       "      <td>Self employed</td>\n",
       "    </tr>\n",
       "    <tr>\n",
       "      <th>3</th>\n",
       "      <td>Kenya</td>\n",
       "      <td>2018</td>\n",
       "      <td>uniqueid_4</td>\n",
       "      <td>No</td>\n",
       "      <td>Rural</td>\n",
       "      <td>Yes</td>\n",
       "      <td>5</td>\n",
       "      <td>34</td>\n",
       "      <td>Female</td>\n",
       "      <td>Head of Household</td>\n",
       "      <td>Married/Living together</td>\n",
       "      <td>Primary education</td>\n",
       "      <td>Formally employed Private</td>\n",
       "    </tr>\n",
       "    <tr>\n",
       "      <th>4</th>\n",
       "      <td>Kenya</td>\n",
       "      <td>2018</td>\n",
       "      <td>uniqueid_5</td>\n",
       "      <td>No</td>\n",
       "      <td>Urban</td>\n",
       "      <td>No</td>\n",
       "      <td>8</td>\n",
       "      <td>26</td>\n",
       "      <td>Male</td>\n",
       "      <td>Child</td>\n",
       "      <td>Single/Never Married</td>\n",
       "      <td>Primary education</td>\n",
       "      <td>Informally employed</td>\n",
       "    </tr>\n",
       "  </tbody>\n",
       "</table>\n",
       "</div>"
      ],
      "text/plain": [
       "  country  year    uniqueid bank_account location_type cellphone_access   \n",
       "0   Kenya  2018  uniqueid_1          Yes         Rural              Yes  \\\n",
       "1   Kenya  2018  uniqueid_2           No         Rural               No   \n",
       "2   Kenya  2018  uniqueid_3          Yes         Urban              Yes   \n",
       "3   Kenya  2018  uniqueid_4           No         Rural              Yes   \n",
       "4   Kenya  2018  uniqueid_5           No         Urban               No   \n",
       "\n",
       "   household_size  age_of_respondent gender_of_respondent   \n",
       "0               3                 24               Female  \\\n",
       "1               5                 70               Female   \n",
       "2               5                 26                 Male   \n",
       "3               5                 34               Female   \n",
       "4               8                 26                 Male   \n",
       "\n",
       "  relationship_with_head           marital_status   \n",
       "0                 Spouse  Married/Living together  \\\n",
       "1      Head of Household                  Widowed   \n",
       "2         Other relative     Single/Never Married   \n",
       "3      Head of Household  Married/Living together   \n",
       "4                  Child     Single/Never Married   \n",
       "\n",
       "                   education_level                   job_type  \n",
       "0              Secondary education              Self employed  \n",
       "1              No formal education       Government Dependent  \n",
       "2  Vocational/Specialised training              Self employed  \n",
       "3                Primary education  Formally employed Private  \n",
       "4                Primary education        Informally employed  "
      ]
     },
     "execution_count": 23,
     "metadata": {},
     "output_type": "execute_result"
    }
   ],
   "source": [
    "# Load files into a pandas dataframe\n",
    "df = pd.read_csv('data/Train.csv')\n",
    "# Let’s observe the shape of our datasets.\n",
    "print('train data shape :', df.shape)\n",
    "# inspect train data\n",
    "df.head()"
   ]
  },
  {
   "cell_type": "code",
   "execution_count": 24,
   "metadata": {},
   "outputs": [
    {
     "data": {
      "text/html": [
       "<div>\n",
       "<style scoped>\n",
       "    .dataframe tbody tr th:only-of-type {\n",
       "        vertical-align: middle;\n",
       "    }\n",
       "\n",
       "    .dataframe tbody tr th {\n",
       "        vertical-align: top;\n",
       "    }\n",
       "\n",
       "    .dataframe thead th {\n",
       "        text-align: right;\n",
       "    }\n",
       "</style>\n",
       "<table border=\"1\" class=\"dataframe\">\n",
       "  <thead>\n",
       "    <tr style=\"text-align: right;\">\n",
       "      <th></th>\n",
       "      <th>country</th>\n",
       "      <th>bank_account</th>\n",
       "      <th>location_type</th>\n",
       "      <th>cellphone_access</th>\n",
       "      <th>household_size</th>\n",
       "      <th>age_of_respondent</th>\n",
       "      <th>gender_of_respondent</th>\n",
       "      <th>relationship_with_head</th>\n",
       "      <th>marital_status</th>\n",
       "      <th>education_level</th>\n",
       "      <th>job_type</th>\n",
       "    </tr>\n",
       "  </thead>\n",
       "  <tbody>\n",
       "    <tr>\n",
       "      <th>0</th>\n",
       "      <td>Kenya</td>\n",
       "      <td>Yes</td>\n",
       "      <td>Rural</td>\n",
       "      <td>Yes</td>\n",
       "      <td>3</td>\n",
       "      <td>24</td>\n",
       "      <td>Female</td>\n",
       "      <td>Spouse</td>\n",
       "      <td>Married/Living together</td>\n",
       "      <td>Secondary education</td>\n",
       "      <td>Self employed</td>\n",
       "    </tr>\n",
       "    <tr>\n",
       "      <th>1</th>\n",
       "      <td>Kenya</td>\n",
       "      <td>No</td>\n",
       "      <td>Rural</td>\n",
       "      <td>No</td>\n",
       "      <td>5</td>\n",
       "      <td>70</td>\n",
       "      <td>Female</td>\n",
       "      <td>Head of Household</td>\n",
       "      <td>Widowed</td>\n",
       "      <td>No formal education</td>\n",
       "      <td>Government Dependent</td>\n",
       "    </tr>\n",
       "    <tr>\n",
       "      <th>2</th>\n",
       "      <td>Kenya</td>\n",
       "      <td>Yes</td>\n",
       "      <td>Urban</td>\n",
       "      <td>Yes</td>\n",
       "      <td>5</td>\n",
       "      <td>26</td>\n",
       "      <td>Male</td>\n",
       "      <td>Other relative</td>\n",
       "      <td>Single/Never Married</td>\n",
       "      <td>Vocational/Specialised training</td>\n",
       "      <td>Self employed</td>\n",
       "    </tr>\n",
       "    <tr>\n",
       "      <th>3</th>\n",
       "      <td>Kenya</td>\n",
       "      <td>No</td>\n",
       "      <td>Rural</td>\n",
       "      <td>Yes</td>\n",
       "      <td>5</td>\n",
       "      <td>34</td>\n",
       "      <td>Female</td>\n",
       "      <td>Head of Household</td>\n",
       "      <td>Married/Living together</td>\n",
       "      <td>Primary education</td>\n",
       "      <td>Formally employed Private</td>\n",
       "    </tr>\n",
       "    <tr>\n",
       "      <th>4</th>\n",
       "      <td>Kenya</td>\n",
       "      <td>No</td>\n",
       "      <td>Urban</td>\n",
       "      <td>No</td>\n",
       "      <td>8</td>\n",
       "      <td>26</td>\n",
       "      <td>Male</td>\n",
       "      <td>Child</td>\n",
       "      <td>Single/Never Married</td>\n",
       "      <td>Primary education</td>\n",
       "      <td>Informally employed</td>\n",
       "    </tr>\n",
       "  </tbody>\n",
       "</table>\n",
       "</div>"
      ],
      "text/plain": [
       "  country bank_account location_type cellphone_access  household_size   \n",
       "0   Kenya          Yes         Rural              Yes               3  \\\n",
       "1   Kenya           No         Rural               No               5   \n",
       "2   Kenya          Yes         Urban              Yes               5   \n",
       "3   Kenya           No         Rural              Yes               5   \n",
       "4   Kenya           No         Urban               No               8   \n",
       "\n",
       "   age_of_respondent gender_of_respondent relationship_with_head   \n",
       "0                 24               Female                 Spouse  \\\n",
       "1                 70               Female      Head of Household   \n",
       "2                 26                 Male         Other relative   \n",
       "3                 34               Female      Head of Household   \n",
       "4                 26                 Male                  Child   \n",
       "\n",
       "            marital_status                  education_level   \n",
       "0  Married/Living together              Secondary education  \\\n",
       "1                  Widowed              No formal education   \n",
       "2     Single/Never Married  Vocational/Specialised training   \n",
       "3  Married/Living together                Primary education   \n",
       "4     Single/Never Married                Primary education   \n",
       "\n",
       "                    job_type  \n",
       "0              Self employed  \n",
       "1       Government Dependent  \n",
       "2              Self employed  \n",
       "3  Formally employed Private  \n",
       "4        Informally employed  "
      ]
     },
     "execution_count": 24,
     "metadata": {},
     "output_type": "execute_result"
    }
   ],
   "source": [
    "# drop columns I don't need for my model\n",
    "df.drop('year', axis=1, inplace=True)\n",
    "df.drop('uniqueid', axis=1, inplace=True)\n",
    "df.head()"
   ]
  },
  {
   "cell_type": "code",
   "execution_count": 25,
   "metadata": {},
   "outputs": [
    {
     "name": "stdout",
     "output_type": "stream",
     "text": [
      "<class 'pandas.core.frame.DataFrame'>\n",
      "RangeIndex: 23524 entries, 0 to 23523\n",
      "Data columns (total 11 columns):\n",
      " #   Column                  Non-Null Count  Dtype \n",
      "---  ------                  --------------  ----- \n",
      " 0   country                 23524 non-null  object\n",
      " 1   bank_account            23524 non-null  object\n",
      " 2   location_type           23524 non-null  object\n",
      " 3   cellphone_access        23524 non-null  object\n",
      " 4   household_size          23524 non-null  int64 \n",
      " 5   age_of_respondent       23524 non-null  int64 \n",
      " 6   gender_of_respondent    23524 non-null  object\n",
      " 7   relationship_with_head  23524 non-null  object\n",
      " 8   marital_status          23524 non-null  object\n",
      " 9   education_level         23524 non-null  object\n",
      " 10  job_type                23524 non-null  object\n",
      "dtypes: int64(2), object(9)\n",
      "memory usage: 2.0+ MB\n"
     ]
    }
   ],
   "source": [
    "df.info()"
   ]
  },
  {
   "cell_type": "code",
   "execution_count": 26,
   "metadata": {},
   "outputs": [],
   "source": [
    "df['bank_account'] = df['bank_account'].map({'No': 0, 'Yes': 1})\n",
    "df['location_type'] = df['location_type'].map({'Rural': 0, 'Urban': 1})\n",
    "df.columns = df.columns.str.replace('location_type','Urban_location')\n",
    "df['cellphone_access'] = df['cellphone_access'].map({'No': 0, 'Yes': 1})\n",
    "df['gender_of_respondent'] = df['gender_of_respondent'].map({'Male': 0, 'Female': 1})\n",
    "\n",
    "df['country'] =  df['country'].map({'Kenya':0, 'Rwanda':1, 'Tanzania':2, 'Uganda':3})\n",
    "\n",
    "df['relationship_with_head']=df['relationship_with_head'].map({'Spouse':0,\n",
    "                                                            'Head of Household':1,\n",
    "                                                            'Other relative':2,\n",
    "                                                            'Child':3,\n",
    "                                                            'Parent':4,\n",
    "                                                            'Other non-relatives':5})\n",
    "\n",
    "df['marital_status'] =df['marital_status'].map({'Married/Living together':0,\n",
    "                                                'Widowed':1,\n",
    "                                                'Single/Never Married':2,\n",
    "                                                'Divorced/Seperated':3,\n",
    "                                                'Dont know':4})\n",
    "\n",
    "\n",
    "df['education_level'] = df['education_level'].map({'Secondary education':0,\n",
    "                                                   'No formal education':1,\n",
    "                                                   'Vocational/Specialised training':2,\n",
    "                                                   'Primary education':3,\n",
    "                                                   'Tertiary education':4,\n",
    "                                                   'Other/Dont know/RTA':5\n",
    "                                                   }) \n",
    "  \n",
    "df['job_type'] = df['job_type'].map({'Self employed':0,\n",
    "                                     'Government Dependent':1,\n",
    "                                     'Formally employed Private':2,\n",
    "                                     'Informally employed':3,\n",
    "                                     'Formally employed Government':4,\n",
    "                                     'Farming and Fishing':5,\n",
    "                                     'Remittance Dependent':6,\n",
    "                                     'Other Income':7,\n",
    "                                     'Dont Know/Refuse to answer':8,\n",
    "                                     'No Income':9\n",
    "                                     })"
   ]
  },
  {
   "cell_type": "code",
   "execution_count": 27,
   "metadata": {},
   "outputs": [],
   "source": [
    "df[['country', 'bank_account', 'Urban_location', 'cellphone_access', 'gender_of_respondent',\n",
    "       'relationship_with_head', 'marital_status', 'education_level','job_type']] = df[['country', \n",
    "                                                                                        'bank_account', \n",
    "                                                                                        'Urban_location', \n",
    "                                                                                        'cellphone_access', \n",
    "                                                                                        'gender_of_respondent',\n",
    "       'relationship_with_head', 'marital_status', 'education_level','job_type']].astype('category')"
   ]
  },
  {
   "cell_type": "code",
   "execution_count": 28,
   "metadata": {},
   "outputs": [
    {
     "name": "stdout",
     "output_type": "stream",
     "text": [
      "<class 'pandas.core.frame.DataFrame'>\n",
      "RangeIndex: 23524 entries, 0 to 23523\n",
      "Data columns (total 11 columns):\n",
      " #   Column                  Non-Null Count  Dtype   \n",
      "---  ------                  --------------  -----   \n",
      " 0   country                 23524 non-null  category\n",
      " 1   bank_account            23524 non-null  category\n",
      " 2   Urban_location          23524 non-null  category\n",
      " 3   cellphone_access        23524 non-null  category\n",
      " 4   household_size          23524 non-null  int64   \n",
      " 5   age_of_respondent       23524 non-null  int64   \n",
      " 6   gender_of_respondent    23524 non-null  category\n",
      " 7   relationship_with_head  23524 non-null  category\n",
      " 8   marital_status          23524 non-null  category\n",
      " 9   education_level         23524 non-null  category\n",
      " 10  job_type                23524 non-null  category\n",
      "dtypes: category(9), int64(2)\n",
      "memory usage: 576.1 KB\n"
     ]
    }
   ],
   "source": [
    "df.info()"
   ]
  },
  {
   "cell_type": "markdown",
   "metadata": {},
   "source": [
    "\n",
    "selected_features = ['country', 'cellphone_access',\n",
    "                     'household_size', \n",
    "                     'age_of_respondent',\n",
    "                     'education_level','job_type']"
   ]
  },
  {
   "cell_type": "code",
   "execution_count": 29,
   "metadata": {},
   "outputs": [],
   "source": [
    "#selected_features = ['education_level','job_type']\n",
    "selected_features = ['age_of_respondent','education_level']"
   ]
  },
  {
   "cell_type": "code",
   "execution_count": 30,
   "metadata": {},
   "outputs": [],
   "source": [
    "\n",
    "X = df[selected_features]\n",
    "y = df['bank_account']"
   ]
  },
  {
   "cell_type": "code",
   "execution_count": 31,
   "metadata": {},
   "outputs": [
    {
     "name": "stdout",
     "output_type": "stream",
     "text": [
      "(16466, 2)\n",
      "(7058, 2)\n",
      "(16466,)\n",
      "(7058,)\n"
     ]
    }
   ],
   "source": [
    "# Train-Test-Split\n",
    "X_train, X_test, y_train, y_test = train_test_split(X, y,\n",
    "                                                    test_size=0.3,\n",
    "                                                    random_state=123,\n",
    "                                                    stratify=y)\n",
    "\n",
    "\n",
    "print(X_train.shape)\n",
    "print(X_test.shape)\n",
    "print(y_train.shape)\n",
    "print(y_test.shape)"
   ]
  },
  {
   "cell_type": "code",
   "execution_count": 32,
   "metadata": {},
   "outputs": [],
   "source": [
    "def my_decision_tree_model(X_train, X_test, y_train, y_test): \n",
    "      \n",
    "    # Creating the classifier object\n",
    "    dec_tree = DecisionTreeClassifier(\n",
    "            class_weight = {0:0.7, 1:2.84},\n",
    "            criterion = 'gini', \n",
    "            max_depth = 7, \n",
    "            min_samples_leaf = 10\n",
    "            ) \n",
    "    \n",
    "    #class_weight = {0:0.58, 1:3.55},\n",
    "\n",
    "    # Performing training \n",
    "    dec_tree.fit(X_train, y_train) \n",
    "    y_pred = dec_tree.predict(X_test) \n",
    "\n",
    "    accuracy = (round(accuracy_score(y_test, y_pred),2))\n",
    "    precision =  (round(precision_score(y_test, y_pred),2))\n",
    "    recall =  (round(recall_score(y_test, y_pred),2))\n",
    "    mae =  (round(mean_absolute_error(y_test, y_pred),2))\n",
    "    print('Metrics Decision Tree Model')\n",
    "    print('---'*15)\n",
    "    print('Confusion Matrix: ')\n",
    "    print(confusion_matrix(y_test, y_pred))\n",
    "    sns.heatmap(confusion_matrix(y_test, y_pred), annot=True, cmap='YlGn',fmt=\".0f\")\n",
    "\n",
    "    print(f'Accuracy - Test: {accuracy} - Train: {(round(accuracy_score(y_train, dec_tree.predict(X_train)),2))}')\n",
    "    print(f'Precision (TP/(TP+FP)) - Test:  {precision} - Train: {(round(precision_score(y_train, dec_tree.predict(X_train)),2))}')\n",
    "    print(f'Recall (TP/(TP+FN)) - Test:  {recall} - Train: {(round(recall_score(y_train, dec_tree.predict(X_train)),2))}')\n",
    "    print(f'MAE - Test:  {mae}  - Train: {(round(mean_absolute_error(y_train, dec_tree.predict(X_train)),2))}')\n",
    "\n",
    "    return(y_pred, dec_tree)\n",
    "   "
   ]
  },
  {
   "cell_type": "code",
   "execution_count": 33,
   "metadata": {},
   "outputs": [
    {
     "name": "stdout",
     "output_type": "stream",
     "text": [
      "Metrics Decision Tree Model\n",
      "---------------------------------------------\n",
      "Confusion Matrix: \n",
      "[[5321  743]\n",
      " [ 424  570]]\n",
      "Accuracy - Test: 0.83 - Train: 0.83\n",
      "Precision (TP/(TP+FP)) - Test:  0.43 - Train: 0.43\n",
      "Recall (TP/(TP+FN)) - Test:  0.57 - Train: 0.56\n",
      "MAE - Test:  0.17  - Train: 0.17\n"
     ]
    },
    {
     "data": {
      "image/png": "[encoded data removed]",
      "text/plain": [
       "<Figure size 640x480 with 2 Axes>"
      ]
     },
     "metadata": {},
     "output_type": "display_data"
    }
   ],
   "source": [
    "from sklearn.metrics import PrecisionRecallDisplay\n",
    "\n",
    "my_pred_dec_tree, my_dec_tree = my_decision_tree_model(X_train, X_test, y_train, y_test)\n"
   ]
  },
  {
   "cell_type": "code",
   "execution_count": 34,
   "metadata": {},
   "outputs": [
    {
     "data": {
      "image/png": "[encoded data removed]",
      "text/plain": [
       "<Figure size 1000x1000 with 2 Axes>"
      ]
     },
     "metadata": {},
     "output_type": "display_data"
    }
   ],
   "source": [
    "class_0 = list(confusion_matrix(y_test, my_pred_dec_tree)[0])\n",
    "class_1 = list(reversed(confusion_matrix(y_test, my_pred_dec_tree)[1]))\n",
    "label = ['True', 'False']\n",
    "col = ['cornflowerblue', 'crimson']\n",
    "fig = plt.figure(figsize=(10,10))\n",
    "ax1 = fig.add_subplot(1,2,1)\n",
    "ax2 = fig.add_subplot(1,2,2)\n",
    "ax1.pie(class_0, labels = label, colors = col, autopct='%1.1f%%')\n",
    "ax2.pie(class_1, labels = label, colors = col, autopct='%1.1f%%');"
   ]
  },
  {
   "cell_type": "code",
   "execution_count": 35,
   "metadata": {},
   "outputs": [
    {
     "data": {
      "text/html": [
       "<div>\n",
       "<style scoped>\n",
       "    .dataframe tbody tr th:only-of-type {\n",
       "        vertical-align: middle;\n",
       "    }\n",
       "\n",
       "    .dataframe tbody tr th {\n",
       "        vertical-align: top;\n",
       "    }\n",
       "\n",
       "    .dataframe thead th {\n",
       "        text-align: right;\n",
       "    }\n",
       "</style>\n",
       "<table border=\"1\" class=\"dataframe\">\n",
       "  <thead>\n",
       "    <tr style=\"text-align: right;\">\n",
       "      <th></th>\n",
       "      <th>class</th>\n",
       "      <th>statement</th>\n",
       "      <th>pred</th>\n",
       "    </tr>\n",
       "  </thead>\n",
       "  <tbody>\n",
       "    <tr>\n",
       "      <th>0</th>\n",
       "      <td>0</td>\n",
       "      <td>True</td>\n",
       "      <td>5321</td>\n",
       "    </tr>\n",
       "    <tr>\n",
       "      <th>1</th>\n",
       "      <td>0</td>\n",
       "      <td>False</td>\n",
       "      <td>743</td>\n",
       "    </tr>\n",
       "    <tr>\n",
       "      <th>2</th>\n",
       "      <td>1</td>\n",
       "      <td>True</td>\n",
       "      <td>570</td>\n",
       "    </tr>\n",
       "    <tr>\n",
       "      <th>3</th>\n",
       "      <td>1</td>\n",
       "      <td>False</td>\n",
       "      <td>424</td>\n",
       "    </tr>\n",
       "  </tbody>\n",
       "</table>\n",
       "</div>"
      ],
      "text/plain": [
       "  class  statement  pred\n",
       "0     0       True  5321\n",
       "1     0      False   743\n",
       "2     1       True   570\n",
       "3     1      False   424"
      ]
     },
     "execution_count": 35,
     "metadata": {},
     "output_type": "execute_result"
    }
   ],
   "source": [
    "tree_metrics_df = pd.DataFrame([{'class':'0',\n",
    "                                   'statement': True,\n",
    "                                   'pred': confusion_matrix(y_test, my_pred_dec_tree)[0][0]},\n",
    "                                   {'class':'0',\n",
    "                                   'statement': False,\n",
    "                                   'pred':confusion_matrix(y_test, my_pred_dec_tree)[0][1] },\n",
    "                                   {'class':'1',\n",
    "                                   'statement': True,\n",
    "                                   'pred':confusion_matrix(y_test, my_pred_dec_tree)[1][1] },\n",
    "                                   {'class':'1',\n",
    "                                   'statement': False,\n",
    "                                   'pred':confusion_matrix(y_test, my_pred_dec_tree)[1][0] }])\n",
    "tree_metrics_df"
   ]
  },
  {
   "cell_type": "code",
   "execution_count": 36,
   "metadata": {},
   "outputs": [
    {
     "data": {
      "text/plain": [
       "<seaborn.axisgrid.FacetGrid at 0x1756e3110>"
      ]
     },
     "execution_count": 36,
     "metadata": {},
     "output_type": "execute_result"
    },
    {
     "data": {
      "image/png": "[encoded data removed]",
      "text/plain": [
       "<Figure size 584.875x500 with 1 Axes>"
      ]
     },
     "metadata": {},
     "output_type": "display_data"
    }
   ],
   "source": [
    "sns.catplot(data=tree_metrics_df, x='class',y = 'pred', hue = 'statement', kind='bar')\n"
   ]
  },
  {
   "cell_type": "markdown",
   "metadata": {},
   "source": [
    "Random Forest"
   ]
  },
  {
   "cell_type": "code",
   "execution_count": 37,
   "metadata": {},
   "outputs": [],
   "source": [
    "def my_random_forest_model(X_train, X_test, y_train, y_test):\n",
    "\n",
    "    # Create the model with 100 trees\n",
    "    forest_model = RandomForestClassifier(n_estimators=50, \n",
    "                                class_weight = {0:0.7, 1:2.84},\n",
    "                                random_state=123, \n",
    "                                max_features = 'sqrt',\n",
    "                                max_depth = 8, \n",
    "                                min_samples_leaf = 15,\n",
    "                                n_jobs=-1, verbose = 1)\n",
    "\n",
    "    # Fit on training data\n",
    "    forest_model.fit(X_train, y_train)\n",
    "    y_pred = forest_model.predict(X_test) \n",
    "\n",
    "    n_nodes = []\n",
    "    max_depths = []\n",
    "\n",
    "    # Stats about the trees in random forest\n",
    "    for tree_idx in forest_model.estimators_:\n",
    "        n_nodes.append(tree_idx.tree_.node_count)\n",
    "        max_depths.append(tree_idx.tree_.max_depth)\n",
    "    \n",
    "    print('Info Random Forest Model')\n",
    "    print('---'*15)\n",
    "    print(f'Average number of nodes {int(np.mean(n_nodes))}')\n",
    "    print(f'Average maximum depth {int(np.mean(max_depths))}')\n",
    "\n",
    "   \n",
    "   \n",
    "\n",
    "    accuracy = (round(accuracy_score(y_test, y_pred),2))\n",
    "    precision =  (round(precision_score(y_test, y_pred),2))\n",
    "    recall =  (round(recall_score(y_test, y_pred),2))\n",
    "    mae =  (round(mean_absolute_error(y_test, y_pred),2))\n",
    "    print('Metrics Random Forest Model')\n",
    "    print('---'*15)\n",
    "    print('Confusion Matrix: ')\n",
    "    print(confusion_matrix(y_test, y_pred))\n",
    "    sns.heatmap(confusion_matrix(y_test, y_pred), annot=True, cmap='YlGn',fmt=\".0f\")\n",
    "    #ConfusionMatrixDisplay.from_estimator(dec_tree, X_test, y_test, cmap= 'YlGn')\n",
    "    print(f'Accuracy - Test: {accuracy} - Train: {(round(accuracy_score(y_train, forest_model.predict(X_train)),2))}')\n",
    "    print(f'Precision (TP/(TP+FP)) - Test:  {precision} - Train: {(round(precision_score(y_train, forest_model.predict(X_train)),2))}')\n",
    "    print(f'Recall (TP/(TP+FN)) - Test:  {recall} - Train: {(round(recall_score(y_train, forest_model.predict(X_train)),2))}')\n",
    "    print(f'MAE - Test:  {mae}  - Train: {(round(mean_absolute_error(y_train, forest_model.predict(X_train)),2))}')\n",
    "    #ConfusionMatrixDisplay.from_estimator(dec_tree, X_test, y_test, normalize='all', cmap= 'YlGn')\n",
    "    print({'accuracy': accuracy,\n",
    "                      'precision':precision,\n",
    "                      'recall': recall,\n",
    "                      'mae':mae})\n",
    "    \n",
    "    return(y_pred, forest_model)"
   ]
  },
  {
   "cell_type": "code",
   "execution_count": 38,
   "metadata": {},
   "outputs": [
    {
     "name": "stderr",
     "output_type": "stream",
     "text": [
      "[Parallel(n_jobs=-1)]: Using backend ThreadingBackend with 8 concurrent workers.\n",
      "[Parallel(n_jobs=-1)]: Done  34 tasks      | elapsed:    0.1s\n",
      "[Parallel(n_jobs=-1)]: Done  50 out of  50 | elapsed:    0.1s finished\n",
      "[Parallel(n_jobs=8)]: Using backend ThreadingBackend with 8 concurrent workers.\n",
      "[Parallel(n_jobs=8)]: Done  34 tasks      | elapsed:    0.0s\n",
      "[Parallel(n_jobs=8)]: Done  50 out of  50 | elapsed:    0.0s finished\n",
      "[Parallel(n_jobs=8)]: Using backend ThreadingBackend with 8 concurrent workers.\n",
      "[Parallel(n_jobs=8)]: Done  34 tasks      | elapsed:    0.0s\n",
      "[Parallel(n_jobs=8)]: Done  50 out of  50 | elapsed:    0.0s finished\n",
      "[Parallel(n_jobs=8)]: Using backend ThreadingBackend with 8 concurrent workers.\n"
     ]
    },
    {
     "name": "stdout",
     "output_type": "stream",
     "text": [
      "Info Random Forest Model\n",
      "---------------------------------------------\n",
      "Average number of nodes 129\n",
      "Average maximum depth 8\n",
      "Metrics Random Forest Model\n",
      "---------------------------------------------\n",
      "Confusion Matrix: \n",
      "[[5294  770]\n",
      " [ 415  579]]\n",
      "Accuracy - Test: 0.83 - Train: 0.83\n",
      "Precision (TP/(TP+FP)) - Test:  0.43 - Train: 0.42\n",
      "Recall (TP/(TP+FN)) - Test:  0.58 - Train: 0.57\n",
      "MAE - Test:  0.17  - Train: 0.17\n",
      "{'accuracy': 0.83, 'precision': 0.43, 'recall': 0.58, 'mae': 0.17}\n"
     ]
    },
    {
     "name": "stderr",
     "output_type": "stream",
     "text": [
      "[Parallel(n_jobs=8)]: Done  34 tasks      | elapsed:    0.0s\n",
      "[Parallel(n_jobs=8)]: Done  50 out of  50 | elapsed:    0.0s finished\n",
      "[Parallel(n_jobs=8)]: Using backend ThreadingBackend with 8 concurrent workers.\n",
      "[Parallel(n_jobs=8)]: Done  34 tasks      | elapsed:    0.0s\n",
      "[Parallel(n_jobs=8)]: Done  50 out of  50 | elapsed:    0.0s finished\n",
      "[Parallel(n_jobs=8)]: Using backend ThreadingBackend with 8 concurrent workers.\n",
      "[Parallel(n_jobs=8)]: Done  34 tasks      | elapsed:    0.0s\n",
      "[Parallel(n_jobs=8)]: Done  50 out of  50 | elapsed:    0.0s finished\n"
     ]
    },
    {
     "data": {
      "image/png": "[encoded data removed]",
      "text/plain": [
       "<Figure size 640x480 with 2 Axes>"
      ]
     },
     "metadata": {},
     "output_type": "display_data"
    }
   ],
   "source": [
    "my_pred_forest_model, my_forest_model = my_random_forest_model(X_train, X_test, y_train, y_test)"
   ]
  },
  {
   "cell_type": "code",
   "execution_count": 39,
   "metadata": {},
   "outputs": [
    {
     "data": {
      "image/png": "[encoded data removed]",
      "text/plain": [
       "<Figure size 1000x1000 with 2 Axes>"
      ]
     },
     "metadata": {},
     "output_type": "display_data"
    }
   ],
   "source": [
    "class_0 = list(confusion_matrix(y_test, my_pred_forest_model)[0])\n",
    "class_1 = list(reversed(confusion_matrix(y_test, my_pred_forest_model)[1]))\n",
    "label = ['True', 'False']\n",
    "col = ['cornflowerblue', 'crimson']\n",
    "fig = plt.figure(figsize=(10,10))\n",
    "ax1 = fig.add_subplot(1,2,1)\n",
    "ax2 = fig.add_subplot(1,2,2)\n",
    "ax1.pie(class_0, labels = label, colors = col, autopct='%1.1f%%')\n",
    "ax2.pie(class_1, labels = label, colors = col, autopct='%1.1f%%');"
   ]
  },
  {
   "cell_type": "code",
   "execution_count": 40,
   "metadata": {},
   "outputs": [
    {
     "data": {
      "text/html": [
       "<div>\n",
       "<style scoped>\n",
       "    .dataframe tbody tr th:only-of-type {\n",
       "        vertical-align: middle;\n",
       "    }\n",
       "\n",
       "    .dataframe tbody tr th {\n",
       "        vertical-align: top;\n",
       "    }\n",
       "\n",
       "    .dataframe thead th {\n",
       "        text-align: right;\n",
       "    }\n",
       "</style>\n",
       "<table border=\"1\" class=\"dataframe\">\n",
       "  <thead>\n",
       "    <tr style=\"text-align: right;\">\n",
       "      <th></th>\n",
       "      <th>class</th>\n",
       "      <th>statement</th>\n",
       "      <th>pred</th>\n",
       "    </tr>\n",
       "  </thead>\n",
       "  <tbody>\n",
       "    <tr>\n",
       "      <th>0</th>\n",
       "      <td>0</td>\n",
       "      <td>True</td>\n",
       "      <td>5294</td>\n",
       "    </tr>\n",
       "    <tr>\n",
       "      <th>1</th>\n",
       "      <td>0</td>\n",
       "      <td>False</td>\n",
       "      <td>770</td>\n",
       "    </tr>\n",
       "    <tr>\n",
       "      <th>2</th>\n",
       "      <td>1</td>\n",
       "      <td>True</td>\n",
       "      <td>579</td>\n",
       "    </tr>\n",
       "    <tr>\n",
       "      <th>3</th>\n",
       "      <td>1</td>\n",
       "      <td>False</td>\n",
       "      <td>415</td>\n",
       "    </tr>\n",
       "  </tbody>\n",
       "</table>\n",
       "</div>"
      ],
      "text/plain": [
       "  class  statement  pred\n",
       "0     0       True  5294\n",
       "1     0      False   770\n",
       "2     1       True   579\n",
       "3     1      False   415"
      ]
     },
     "execution_count": 40,
     "metadata": {},
     "output_type": "execute_result"
    }
   ],
   "source": [
    "forest_metrics_df = pd.DataFrame([{'class':'0',\n",
    "                                   'statement': True,\n",
    "                                   'pred': confusion_matrix(y_test, my_pred_forest_model)[0][0]},\n",
    "                                   {'class':'0',\n",
    "                                   'statement': False,\n",
    "                                   'pred':confusion_matrix(y_test, my_pred_forest_model)[0][1] },\n",
    "                                   {'class':'1',\n",
    "                                   'statement': True,\n",
    "                                   'pred':confusion_matrix(y_test, my_pred_forest_model)[1][1] },\n",
    "                                   {'class':'1',\n",
    "                                   'statement': False,\n",
    "                                   'pred':confusion_matrix(y_test, my_pred_forest_model)[1][0] }])\n",
    "forest_metrics_df"
   ]
  },
  {
   "cell_type": "code",
   "execution_count": 41,
   "metadata": {},
   "outputs": [
    {
     "data": {
      "text/plain": [
       "<seaborn.axisgrid.FacetGrid at 0x17579ce10>"
      ]
     },
     "execution_count": 41,
     "metadata": {},
     "output_type": "execute_result"
    },
    {
     "data": {
      "image/png": "[encoded data removed]",
      "text/plain": [
       "<Figure size 584.875x500 with 1 Axes>"
      ]
     },
     "metadata": {},
     "output_type": "display_data"
    }
   ],
   "source": [
    "sns.catplot(data=forest_metrics_df, x='class',y = 'pred', hue = 'statement', kind='bar')\n"
   ]
  }
 ],
 "metadata": {
  "kernelspec": {
   "display_name": ".venv",
   "language": "python",
   "name": "python3"
  },
  "language_info": {
   "codemirror_mode": {
    "name": "ipython",
    "version": 3
   },
   "file_extension": ".py",
   "mimetype": "text/x-python",
   "name": "python",
   "nbconvert_exporter": "python",
   "pygments_lexer": "ipython3",
   "version": "3.11.3"
  }
 },
 "nbformat": 4,
 "nbformat_minor": 2
}
