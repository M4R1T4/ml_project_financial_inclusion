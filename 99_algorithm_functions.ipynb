{
 "cells": [
  {
   "cell_type": "code",
   "execution_count": 2,
   "metadata": {},
   "outputs": [],
   "source": [
    "import numpy as np\n",
    "import pandas as pd\n",
    "import matplotlib.pyplot as plt\n",
    "import seaborn as sns\n",
    "\n",
    "from sklearn.neighbors import KNeighborsClassifier\n",
    "from sklearn.linear_model import LogisticRegression\n",
    "from sklearn.metrics import confusion_matrix, ConfusionMatrixDisplay, accuracy_score, precision_score, recall_score, mean_absolute_error\n",
    "from sklearn.tree import plot_tree, DecisionTreeClassifier \n",
    "from sklearn.preprocessing import StandardScaler, MinMaxScaler\n",
    "from sklearn.model_selection import train_test_split, cross_val_score, GridSearchCV, RandomizedSearchCV"
   ]
  },
  {
   "cell_type": "code",
   "execution_count": null,
   "metadata": {},
   "outputs": [],
   "source": [
    "def log_regression_model(X_train, X_test, y_train, y_test):\n",
    "    # Modelling\n",
    "    logistic_regression = LogisticRegression()\n",
    "    logistic_regression.fit(X_train, y_train)\n",
    "\n",
    "    y_pred = logistic_regression.predict(X_test) # prediction of the testdata\n",
    "    y_train_proba = logistic_regression.predict_proba(X_train)\n",
    "    y_test_proba = logistic_regression.predict_proba(X_train)\n",
    "\n",
    "    accuracy = (round(accuracy_score(y_test, y_pred),2))\n",
    "    precision =  (round(precision_score(y_test, y_pred),2))\n",
    "    recall =  (round(recall_score(y_test, y_pred),2))\n",
    "    mae =  (round(mean_absolute_error(y_test, y_pred),2))\n",
    "\n",
    "    print('Metrics for Logistic Regression Model')\n",
    "    print('---'*15)\n",
    "    print('Confusion Matrix: ')\n",
    "    print(confusion_matrix(y_test, y_pred))\n",
    "    sns.heatmap(confusion_matrix(y_test, y_pred), annot=True, cmap='YlGn',fmt=\".0f\")\n",
    "    print('Accuracy: ', accuracy)\n",
    "    print('Precision (TP/(TP+FP)): ', precision)\n",
    "    print('Recall (TP/(TP+FN)): ', recall)\n",
    "    print('MAE: ', mae)\n",
    "    #ConfusionMatrixDisplay.from_estimator(logistic_regression, X_test, y_test, normalize='all', cmap= 'YlGn')\n",
    "\n",
    "\n",
    "    return(y_pred,y_train_proba,y_test_proba)"
   ]
  },
  {
   "cell_type": "code",
   "execution_count": null,
   "metadata": {},
   "outputs": [],
   "source": [
    "def knn_model(X_train, X_test, y_train, y_test, k=15):\n",
    "    # Train model\n",
    "    knn = KNeighborsClassifier(n_neighbors=k, metric='euclidean')\n",
    "    knn.fit(X_train, y_train)\n",
    "\n",
    "    # Predict on test set\n",
    "    y_pred = knn.predict(X_test)\n",
    "\n",
    "    accuracy = (round(accuracy_score(y_test, y_pred),2))\n",
    "    precision =  (round(precision_score(y_test, y_pred),2))\n",
    "    recall =  (round(recall_score(y_test, y_pred),2))\n",
    "    mae =  (round(mean_absolute_error(y_test, y_pred),2))\n",
    "\n",
    "    print('Metrics for KNN Model')\n",
    "    print('---'*15)\n",
    "    print('Confusion Matrix: ')\n",
    "    print(confusion_matrix(y_test, y_pred))\n",
    "    sns.heatmap(confusion_matrix(y_test, y_pred), annot=True, cmap='YlGn',fmt=\".0f\")\n",
    "    print('Accuracy: ', accuracy)\n",
    "    print('Precision (TP/(TP+FP)): ', precision)\n",
    "    print('Recall (TP/(TP+FN)): ', recall)\n",
    "    print('MAE: ', mae)\n",
    "\n",
    "    #ConfusionMatrixDisplay.from_estimator(knn, X_test, y_test, normalize='all', cmap= 'YlGn')\n",
    "    #ConfusionMatrixDisplay(confusion_matrix=confusion_matrix(y_test, y_pred), normaliza=all).plot()\n",
    "    #sns.heatmap(confusion_matrix(y_test, y_pred), annot=True, cmap='YlGn')\n",
    "\n",
    "    return(y_pred)"
   ]
  },
  {
   "cell_type": "code",
   "execution_count": null,
   "metadata": {},
   "outputs": [],
   "source": [
    "# handling the inbalanced data\n",
    "\n",
    "from collections import Counter\n",
    "from sklearn.datasets import make_classification\n",
    "from imblearn.over_sampling import SMOTE\n",
    "\n",
    "\n",
    "smote = SMOTE(random_state=42)\n",
    "\n",
    "#fit predictor and target variable\n",
    "X_smote, y_smote = smote.fit_resample(X_train,y_train) # Resample the dataset\n",
    "\n",
    "print('original dataset shape', Counter(y_train))\n",
    "print('resample dataset shape', Counter(y_smote))"
   ]
  },
  {
   "cell_type": "code",
   "execution_count": null,
   "metadata": {},
   "outputs": [],
   "source": [
    "def print_plot_metrics(y_pred, model):\n",
    "\n",
    "    accuracy = (round(accuracy_score(y_test, y_pred),2))\n",
    "    precision =  (round(precision_score(y_test, y_pred),2))\n",
    "    recall =  (round(recall_score(y_test, y_pred),2))\n",
    "    mae =  (round(mean_absolute_error(y_test, y_pred),2))\n",
    "    print('---'*15)\n",
    "    print(f'Accuracy: {accuracy}')\n",
    "    print(f'Precision (TP/(TP+FP)):  {precision}')\n",
    "    print(f'Recall (TP/(TP+FN)):  {recall}')\n",
    "    print(f'MAE:  {mae}')\n",
    "\n",
    "    sns.heatmap(confusion_matrix(y_test, y_pred), annot=True, cmap='YlGn',fmt=\".0f\")\n",
    "\n",
    "    return(accuracy, precision, recall, mae)"
   ]
  },
  {
   "cell_type": "code",
   "execution_count": null,
   "metadata": {},
   "outputs": [],
   "source": [
    "#import XGBClassifier\n",
    "from xgboost import XGBClassifier\n",
    "\n",
    "my_model = XGBClassifier()\n",
    "# Import GridSearchCV\n",
    "from sklearn.model_selection import GridSearchCV\n",
    "\n",
    "# Optimize model paramaters \n",
    "# I run this code in google colab to make the execution much faster and use the best params in the next code\n",
    "param_grid = {'min_child_weight': [1, 5, 10],\n",
    "        'gamma': [0.5, 1, 1.5, 2, 5],\n",
    "        'subsample': [0.6, 0.8, 1.0],\n",
    "        'colsample_bytree': [0.6, 0.8, 1.0],\n",
    "        'max_depth': [3, 4, 5]\n",
    "        }\n",
    "my_model2 = GridSearchCV(my_model, param_grid)\n",
    "my_model2.fit(X_Train, y_Train)\n",
    "print(my_model2.best_params_)"
   ]
  }
 ],
 "metadata": {
  "kernelspec": {
   "display_name": ".venv",
   "language": "python",
   "name": "python3"
  },
  "language_info": {
   "codemirror_mode": {
    "name": "ipython",
    "version": 3
   },
   "file_extension": ".py",
   "mimetype": "text/x-python",
   "name": "python",
   "nbconvert_exporter": "python",
   "pygments_lexer": "ipython3",
   "version": "3.11.3"
  }
 },
 "nbformat": 4,
 "nbformat_minor": 2
}
